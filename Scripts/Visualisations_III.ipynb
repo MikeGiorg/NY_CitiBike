{
 "cells": [
  {
   "cell_type": "markdown",
   "id": "b939fb4d-6ffb-4f8c-be93-4a3a06d8e7e6",
   "metadata": {},
   "source": [
    "## Import Libraries and Files"
   ]
  },
  {
   "cell_type": "code",
   "execution_count": 1,
   "id": "fb04f9c1-2240-4d1e-871a-fc4863ec817d",
   "metadata": {
    "tags": []
   },
   "outputs": [],
   "source": [
    "# Import Libraries \n",
    "import pandas as pd\n",
    "import numpy as np\n",
    "import os\n",
    "from plotly.subplots import make_subplots\n",
    "import plotly.graph_objects as go"
   ]
  },
  {
   "cell_type": "code",
   "execution_count": 28,
   "id": "387a1694-b57e-4565-a9cc-4f1a2a5b57d4",
   "metadata": {
    "tags": []
   },
   "outputs": [],
   "source": [
    "# Import File\n",
    "bike = pd.read_pickle(r'../Data/Prepared/bike_flag.pkl')"
   ]
  },
  {
   "cell_type": "markdown",
   "id": "9c8bc81f-20e5-4e12-adcf-361a275a6830",
   "metadata": {},
   "source": [
    "## Data Preparation"
   ]
  },
  {
   "cell_type": "code",
   "execution_count": 29,
   "id": "ca396d18-854b-4eec-bd15-d053332668b9",
   "metadata": {
    "tags": []
   },
   "outputs": [],
   "source": [
    "# Create Month col. \n",
    "bike['date'] = pd.to_datetime(bike['date'], format = '%Y-%m-%d')"
   ]
  },
  {
   "cell_type": "code",
   "execution_count": 30,
   "id": "10d40fbe-2dc3-4ff2-be4b-89ef20a55cfb",
   "metadata": {
    "tags": []
   },
   "outputs": [],
   "source": [
    "bike['month'] = bike['date'].dt.month"
   ]
  },
  {
   "cell_type": "code",
   "execution_count": 31,
   "id": "09c95557-5a54-4783-ac40-2ace6a09e3a6",
   "metadata": {
    "tags": []
   },
   "outputs": [],
   "source": [
    "bike['month'] = bike['month'].astype('int')"
   ]
  },
  {
   "cell_type": "code",
   "execution_count": 32,
   "id": "4a13150a-be35-4ce6-a353-dd8ba43092fd",
   "metadata": {
    "tags": []
   },
   "outputs": [],
   "source": [
    "# Create season col. \n",
    "bike['season'] = [\n",
    "    'Winter' if (month==12 or month <=2)\n",
    "    else 'Spring' if (3 <= month <=5)\n",
    "    else 'Summer' if (6 <= month <=8)\n",
    "    else 'Fall'\n",
    "for month in bike['month']\n",
    "]"
   ]
  },
  {
   "cell_type": "markdown",
   "id": "000715c6-3325-4382-972f-b9468cd90375",
   "metadata": {},
   "source": [
    "## Visualisations with Plotly"
   ]
  },
  {
   "cell_type": "markdown",
   "id": "6b403feb-4935-4514-8c42-73052ef40e3a",
   "metadata": {},
   "source": [
    "#### bar chart"
   ]
  },
  {
   "cell_type": "code",
   "execution_count": 33,
   "id": "4f5529c5-fc54-466a-8e47-ba339e2b2854",
   "metadata": {
    "tags": []
   },
   "outputs": [],
   "source": [
    "# Look for most popular stations\n",
    "bike['value'] = 1\n",
    "bike_grouped = bike.groupby('start_station', as_index = False).agg({'value' : 'sum'})"
   ]
  },
  {
   "cell_type": "code",
   "execution_count": 34,
   "id": "a5c4d5e4-e364-4945-ba2e-61bf82c01462",
   "metadata": {
    "tags": []
   },
   "outputs": [],
   "source": [
    "# Define top 20 start stations\n",
    "top20 = bike_grouped.nlargest(20, 'value')"
   ]
  },
  {
   "cell_type": "code",
   "execution_count": null,
   "id": "e6669b3f-5416-4908-9c42-529a35e2ce50",
   "metadata": {
    "tags": []
   },
   "outputs": [],
   "source": [
    "# Plot top 20 start stations\n",
    "fig = go.Figure(go.Bar(x = top20['start_station'], \n",
    "                       y = top20['value'], \n",
    "                       marker = {'color' : top20['value'], 'colorscale' : 'oranges'} ))\n",
    "fig.update_layout(\n",
    "    title = '20 Most Popular Bike Stations in NY', \n",
    "                  xaxis_title = 'Start Stations', \n",
    "                  yaxis_title = 'Trips', \n",
    "                  width = 900, \n",
    "                  height = 600\n",
    ")"
   ]
  },
  {
   "cell_type": "markdown",
   "id": "8b1b57b2-73e6-4365-9b7d-f88f3727f1ff",
   "metadata": {
    "tags": []
   },
   "source": [
    "#### line chart"
   ]
  },
  {
   "cell_type": "code",
   "execution_count": 35,
   "id": "ac317b51-c0a9-41bd-a306-8aea913d93a3",
   "metadata": {
    "tags": []
   },
   "outputs": [],
   "source": [
    "# Sort the data by date\n",
    "bike = bike.sort_values(by='date')"
   ]
  },
  {
   "cell_type": "code",
   "execution_count": null,
   "id": "4b2f53c4-c97e-40b8-b1c7-74c410d3ce2c",
   "metadata": {
    "tags": []
   },
   "outputs": [],
   "source": [
    "# Create subplot with secondary y-axis\n",
    "fig = make_subplots(specs=[[{'secondary_y': True}]])\n",
    "\n",
    "# Add first trace for Daily Bike Rides (primary y-axis)\n",
    "fig.add_trace(\n",
    "    go.Scatter(\n",
    "        x=bike['date'], \n",
    "        y=bike['trips_per_day'], \n",
    "        name='Daily Bike Rides', \n",
    "        marker={'color': '#343D71'},\n",
    "        line=dict(color='#343D71')\n",
    "    ), secondary_y=False  #Specify secondary_y  \n",
    ")\n",
    "\n",
    "# Add second trace for Daily Temperature (secondary y-axis)\n",
    "fig.add_trace(\n",
    "    go.Scatter(\n",
    "        x=bike['date'], \n",
    "        y=bike['avg_temp'], \n",
    "        name='Daily Temperature', \n",
    "        marker={'color': '#D93240'},\n",
    "        line=dict(color='#D93240')\n",
    "    ), secondary_y=True  # Specify secondary_y here\n",
    ")\n",
    "\n",
    "# Update layout\n",
    "fig.update_layout(\n",
    "    title='Daily Bike Trips and Temperature in NY (2023)', \n",
    "    height=800,\n",
    "    plot_bgcolor='white',  # Set the plot background (inside the axes) to white\n",
    "    paper_bgcolor='white',  # Set the entire figure background to white\n",
    ")"
   ]
  },
  {
   "cell_type": "markdown",
   "id": "8b2d4aba",
   "metadata": {},
   "source": [
    "#### Pie"
   ]
  },
  {
   "cell_type": "code",
   "execution_count": 36,
   "id": "adc8b96b",
   "metadata": {},
   "outputs": [],
   "source": [
    "# Group data to plot\n",
    "usage = bike.groupby('trip_leng')['ride_id'].nunique().reset_index()"
   ]
  },
  {
   "cell_type": "code",
   "execution_count": 39,
   "id": "56de7bca",
   "metadata": {},
   "outputs": [],
   "source": [
    "# Define custom colours\n",
    "custom_cols = ['#F2808A', '#43AED9']"
   ]
  },
  {
   "cell_type": "code",
   "execution_count": 40,
   "id": "12be0519",
   "metadata": {},
   "outputs": [
    {
     "data": {
      "application/vnd.plotly.v1+json": {
       "config": {
        "plotlyServerURL": "https://plot.ly"
       },
       "data": [
        {
         "hole": 0.4,
         "labels": [
          "Atypical Usage",
          "Standard Usage"
         ],
         "marker": {
          "colors": [
           "#F2808A",
           "#43AED9"
          ]
         },
         "textinfo": "percent+label",
         "type": "pie",
         "values": [
          3819,
          984978
         ]
        }
       ],
       "layout": {
        "height": 400,
        "template": {
         "data": {
          "bar": [
           {
            "error_x": {
             "color": "#2a3f5f"
            },
            "error_y": {
             "color": "#2a3f5f"
            },
            "marker": {
             "line": {
              "color": "#E5ECF6",
              "width": 0.5
             },
             "pattern": {
              "fillmode": "overlay",
              "size": 10,
              "solidity": 0.2
             }
            },
            "type": "bar"
           }
          ],
          "barpolar": [
           {
            "marker": {
             "line": {
              "color": "#E5ECF6",
              "width": 0.5
             },
             "pattern": {
              "fillmode": "overlay",
              "size": 10,
              "solidity": 0.2
             }
            },
            "type": "barpolar"
           }
          ],
          "carpet": [
           {
            "aaxis": {
             "endlinecolor": "#2a3f5f",
             "gridcolor": "white",
             "linecolor": "white",
             "minorgridcolor": "white",
             "startlinecolor": "#2a3f5f"
            },
            "baxis": {
             "endlinecolor": "#2a3f5f",
             "gridcolor": "white",
             "linecolor": "white",
             "minorgridcolor": "white",
             "startlinecolor": "#2a3f5f"
            },
            "type": "carpet"
           }
          ],
          "choropleth": [
           {
            "colorbar": {
             "outlinewidth": 0,
             "ticks": ""
            },
            "type": "choropleth"
           }
          ],
          "contour": [
           {
            "colorbar": {
             "outlinewidth": 0,
             "ticks": ""
            },
            "colorscale": [
             [
              0,
              "#0d0887"
             ],
             [
              0.1111111111111111,
              "#46039f"
             ],
             [
              0.2222222222222222,
              "#7201a8"
             ],
             [
              0.3333333333333333,
              "#9c179e"
             ],
             [
              0.4444444444444444,
              "#bd3786"
             ],
             [
              0.5555555555555556,
              "#d8576b"
             ],
             [
              0.6666666666666666,
              "#ed7953"
             ],
             [
              0.7777777777777778,
              "#fb9f3a"
             ],
             [
              0.8888888888888888,
              "#fdca26"
             ],
             [
              1,
              "#f0f921"
             ]
            ],
            "type": "contour"
           }
          ],
          "contourcarpet": [
           {
            "colorbar": {
             "outlinewidth": 0,
             "ticks": ""
            },
            "type": "contourcarpet"
           }
          ],
          "heatmap": [
           {
            "colorbar": {
             "outlinewidth": 0,
             "ticks": ""
            },
            "colorscale": [
             [
              0,
              "#0d0887"
             ],
             [
              0.1111111111111111,
              "#46039f"
             ],
             [
              0.2222222222222222,
              "#7201a8"
             ],
             [
              0.3333333333333333,
              "#9c179e"
             ],
             [
              0.4444444444444444,
              "#bd3786"
             ],
             [
              0.5555555555555556,
              "#d8576b"
             ],
             [
              0.6666666666666666,
              "#ed7953"
             ],
             [
              0.7777777777777778,
              "#fb9f3a"
             ],
             [
              0.8888888888888888,
              "#fdca26"
             ],
             [
              1,
              "#f0f921"
             ]
            ],
            "type": "heatmap"
           }
          ],
          "heatmapgl": [
           {
            "colorbar": {
             "outlinewidth": 0,
             "ticks": ""
            },
            "colorscale": [
             [
              0,
              "#0d0887"
             ],
             [
              0.1111111111111111,
              "#46039f"
             ],
             [
              0.2222222222222222,
              "#7201a8"
             ],
             [
              0.3333333333333333,
              "#9c179e"
             ],
             [
              0.4444444444444444,
              "#bd3786"
             ],
             [
              0.5555555555555556,
              "#d8576b"
             ],
             [
              0.6666666666666666,
              "#ed7953"
             ],
             [
              0.7777777777777778,
              "#fb9f3a"
             ],
             [
              0.8888888888888888,
              "#fdca26"
             ],
             [
              1,
              "#f0f921"
             ]
            ],
            "type": "heatmapgl"
           }
          ],
          "histogram": [
           {
            "marker": {
             "pattern": {
              "fillmode": "overlay",
              "size": 10,
              "solidity": 0.2
             }
            },
            "type": "histogram"
           }
          ],
          "histogram2d": [
           {
            "colorbar": {
             "outlinewidth": 0,
             "ticks": ""
            },
            "colorscale": [
             [
              0,
              "#0d0887"
             ],
             [
              0.1111111111111111,
              "#46039f"
             ],
             [
              0.2222222222222222,
              "#7201a8"
             ],
             [
              0.3333333333333333,
              "#9c179e"
             ],
             [
              0.4444444444444444,
              "#bd3786"
             ],
             [
              0.5555555555555556,
              "#d8576b"
             ],
             [
              0.6666666666666666,
              "#ed7953"
             ],
             [
              0.7777777777777778,
              "#fb9f3a"
             ],
             [
              0.8888888888888888,
              "#fdca26"
             ],
             [
              1,
              "#f0f921"
             ]
            ],
            "type": "histogram2d"
           }
          ],
          "histogram2dcontour": [
           {
            "colorbar": {
             "outlinewidth": 0,
             "ticks": ""
            },
            "colorscale": [
             [
              0,
              "#0d0887"
             ],
             [
              0.1111111111111111,
              "#46039f"
             ],
             [
              0.2222222222222222,
              "#7201a8"
             ],
             [
              0.3333333333333333,
              "#9c179e"
             ],
             [
              0.4444444444444444,
              "#bd3786"
             ],
             [
              0.5555555555555556,
              "#d8576b"
             ],
             [
              0.6666666666666666,
              "#ed7953"
             ],
             [
              0.7777777777777778,
              "#fb9f3a"
             ],
             [
              0.8888888888888888,
              "#fdca26"
             ],
             [
              1,
              "#f0f921"
             ]
            ],
            "type": "histogram2dcontour"
           }
          ],
          "mesh3d": [
           {
            "colorbar": {
             "outlinewidth": 0,
             "ticks": ""
            },
            "type": "mesh3d"
           }
          ],
          "parcoords": [
           {
            "line": {
             "colorbar": {
              "outlinewidth": 0,
              "ticks": ""
             }
            },
            "type": "parcoords"
           }
          ],
          "pie": [
           {
            "automargin": true,
            "type": "pie"
           }
          ],
          "scatter": [
           {
            "fillpattern": {
             "fillmode": "overlay",
             "size": 10,
             "solidity": 0.2
            },
            "type": "scatter"
           }
          ],
          "scatter3d": [
           {
            "line": {
             "colorbar": {
              "outlinewidth": 0,
              "ticks": ""
             }
            },
            "marker": {
             "colorbar": {
              "outlinewidth": 0,
              "ticks": ""
             }
            },
            "type": "scatter3d"
           }
          ],
          "scattercarpet": [
           {
            "marker": {
             "colorbar": {
              "outlinewidth": 0,
              "ticks": ""
             }
            },
            "type": "scattercarpet"
           }
          ],
          "scattergeo": [
           {
            "marker": {
             "colorbar": {
              "outlinewidth": 0,
              "ticks": ""
             }
            },
            "type": "scattergeo"
           }
          ],
          "scattergl": [
           {
            "marker": {
             "colorbar": {
              "outlinewidth": 0,
              "ticks": ""
             }
            },
            "type": "scattergl"
           }
          ],
          "scattermapbox": [
           {
            "marker": {
             "colorbar": {
              "outlinewidth": 0,
              "ticks": ""
             }
            },
            "type": "scattermapbox"
           }
          ],
          "scatterpolar": [
           {
            "marker": {
             "colorbar": {
              "outlinewidth": 0,
              "ticks": ""
             }
            },
            "type": "scatterpolar"
           }
          ],
          "scatterpolargl": [
           {
            "marker": {
             "colorbar": {
              "outlinewidth": 0,
              "ticks": ""
             }
            },
            "type": "scatterpolargl"
           }
          ],
          "scatterternary": [
           {
            "marker": {
             "colorbar": {
              "outlinewidth": 0,
              "ticks": ""
             }
            },
            "type": "scatterternary"
           }
          ],
          "surface": [
           {
            "colorbar": {
             "outlinewidth": 0,
             "ticks": ""
            },
            "colorscale": [
             [
              0,
              "#0d0887"
             ],
             [
              0.1111111111111111,
              "#46039f"
             ],
             [
              0.2222222222222222,
              "#7201a8"
             ],
             [
              0.3333333333333333,
              "#9c179e"
             ],
             [
              0.4444444444444444,
              "#bd3786"
             ],
             [
              0.5555555555555556,
              "#d8576b"
             ],
             [
              0.6666666666666666,
              "#ed7953"
             ],
             [
              0.7777777777777778,
              "#fb9f3a"
             ],
             [
              0.8888888888888888,
              "#fdca26"
             ],
             [
              1,
              "#f0f921"
             ]
            ],
            "type": "surface"
           }
          ],
          "table": [
           {
            "cells": {
             "fill": {
              "color": "#EBF0F8"
             },
             "line": {
              "color": "white"
             }
            },
            "header": {
             "fill": {
              "color": "#C8D4E3"
             },
             "line": {
              "color": "white"
             }
            },
            "type": "table"
           }
          ]
         },
         "layout": {
          "annotationdefaults": {
           "arrowcolor": "#2a3f5f",
           "arrowhead": 0,
           "arrowwidth": 1
          },
          "autotypenumbers": "strict",
          "coloraxis": {
           "colorbar": {
            "outlinewidth": 0,
            "ticks": ""
           }
          },
          "colorscale": {
           "diverging": [
            [
             0,
             "#8e0152"
            ],
            [
             0.1,
             "#c51b7d"
            ],
            [
             0.2,
             "#de77ae"
            ],
            [
             0.3,
             "#f1b6da"
            ],
            [
             0.4,
             "#fde0ef"
            ],
            [
             0.5,
             "#f7f7f7"
            ],
            [
             0.6,
             "#e6f5d0"
            ],
            [
             0.7,
             "#b8e186"
            ],
            [
             0.8,
             "#7fbc41"
            ],
            [
             0.9,
             "#4d9221"
            ],
            [
             1,
             "#276419"
            ]
           ],
           "sequential": [
            [
             0,
             "#0d0887"
            ],
            [
             0.1111111111111111,
             "#46039f"
            ],
            [
             0.2222222222222222,
             "#7201a8"
            ],
            [
             0.3333333333333333,
             "#9c179e"
            ],
            [
             0.4444444444444444,
             "#bd3786"
            ],
            [
             0.5555555555555556,
             "#d8576b"
            ],
            [
             0.6666666666666666,
             "#ed7953"
            ],
            [
             0.7777777777777778,
             "#fb9f3a"
            ],
            [
             0.8888888888888888,
             "#fdca26"
            ],
            [
             1,
             "#f0f921"
            ]
           ],
           "sequentialminus": [
            [
             0,
             "#0d0887"
            ],
            [
             0.1111111111111111,
             "#46039f"
            ],
            [
             0.2222222222222222,
             "#7201a8"
            ],
            [
             0.3333333333333333,
             "#9c179e"
            ],
            [
             0.4444444444444444,
             "#bd3786"
            ],
            [
             0.5555555555555556,
             "#d8576b"
            ],
            [
             0.6666666666666666,
             "#ed7953"
            ],
            [
             0.7777777777777778,
             "#fb9f3a"
            ],
            [
             0.8888888888888888,
             "#fdca26"
            ],
            [
             1,
             "#f0f921"
            ]
           ]
          },
          "colorway": [
           "#636efa",
           "#EF553B",
           "#00cc96",
           "#ab63fa",
           "#FFA15A",
           "#19d3f3",
           "#FF6692",
           "#B6E880",
           "#FF97FF",
           "#FECB52"
          ],
          "font": {
           "color": "#2a3f5f"
          },
          "geo": {
           "bgcolor": "white",
           "lakecolor": "white",
           "landcolor": "#E5ECF6",
           "showlakes": true,
           "showland": true,
           "subunitcolor": "white"
          },
          "hoverlabel": {
           "align": "left"
          },
          "hovermode": "closest",
          "mapbox": {
           "style": "light"
          },
          "paper_bgcolor": "white",
          "plot_bgcolor": "#E5ECF6",
          "polar": {
           "angularaxis": {
            "gridcolor": "white",
            "linecolor": "white",
            "ticks": ""
           },
           "bgcolor": "#E5ECF6",
           "radialaxis": {
            "gridcolor": "white",
            "linecolor": "white",
            "ticks": ""
           }
          },
          "scene": {
           "xaxis": {
            "backgroundcolor": "#E5ECF6",
            "gridcolor": "white",
            "gridwidth": 2,
            "linecolor": "white",
            "showbackground": true,
            "ticks": "",
            "zerolinecolor": "white"
           },
           "yaxis": {
            "backgroundcolor": "#E5ECF6",
            "gridcolor": "white",
            "gridwidth": 2,
            "linecolor": "white",
            "showbackground": true,
            "ticks": "",
            "zerolinecolor": "white"
           },
           "zaxis": {
            "backgroundcolor": "#E5ECF6",
            "gridcolor": "white",
            "gridwidth": 2,
            "linecolor": "white",
            "showbackground": true,
            "ticks": "",
            "zerolinecolor": "white"
           }
          },
          "shapedefaults": {
           "line": {
            "color": "#2a3f5f"
           }
          },
          "ternary": {
           "aaxis": {
            "gridcolor": "white",
            "linecolor": "white",
            "ticks": ""
           },
           "baxis": {
            "gridcolor": "white",
            "linecolor": "white",
            "ticks": ""
           },
           "bgcolor": "#E5ECF6",
           "caxis": {
            "gridcolor": "white",
            "linecolor": "white",
            "ticks": ""
           }
          },
          "title": {
           "x": 0.05
          },
          "xaxis": {
           "automargin": true,
           "gridcolor": "white",
           "linecolor": "white",
           "ticks": "",
           "title": {
            "standoff": 15
           },
           "zerolinecolor": "white",
           "zerolinewidth": 2
          },
          "yaxis": {
           "automargin": true,
           "gridcolor": "white",
           "linecolor": "white",
           "ticks": "",
           "title": {
            "standoff": 15
           },
           "zerolinecolor": "white",
           "zerolinewidth": 2
          }
         }
        },
        "title": {
         "text": "Usage of the Bikes"
        },
        "width": 400
       }
      },
      "image/png": "[encoded data removed]"
     },
     "metadata": {},
     "output_type": "display_data"
    }
   ],
   "source": [
    "# Plot usage\n",
    "fig = go.Figure(go.Pie(values=usage['ride_id'],\n",
    "                       labels=usage['trip_leng'],\n",
    "                       hole=0.4,\n",
    "                       marker=dict(colors=custom_cols)))\n",
    "# Update Layout\n",
    "fig.update_traces(textinfo='percent+label')\n",
    "fig.update_layout(title='Usage of the Bikes',\n",
    "                  height=400,\n",
    "                  width=400)"
   ]
  },
  {
   "cell_type": "markdown",
   "id": "548172f6-cd41-49cc-a073-3e2893602260",
   "metadata": {},
   "source": [
    "## Save Files"
   ]
  },
  {
   "cell_type": "code",
   "execution_count": 37,
   "id": "974fb0d4-7659-4462-b22e-607f262db223",
   "metadata": {
    "tags": []
   },
   "outputs": [],
   "source": [
    "# Save top 20 start stations\n",
    "top20.to_csv(r'../Data/Prepared/top20.csv')"
   ]
  },
  {
   "cell_type": "code",
   "execution_count": 38,
   "id": "86d3ae31-2c66-4692-aef8-e859b90e4858",
   "metadata": {
    "tags": []
   },
   "outputs": [
    {
     "data": {
      "text/plain": [
       "(79019, 11)"
      ]
     },
     "execution_count": 38,
     "metadata": {},
     "output_type": "execute_result"
    }
   ],
   "source": [
    "# Select data for dashboard\n",
    "dash=bike[['date', 'start_station', 'trips_per_day', 'avg_temp', 'season', 'membership', 'trip_leng', 'ride_id', 'value', 'bike_type', 'trip_mins']]\n",
    "\n",
    "# Sample data\n",
    "np.random.seed(32)\n",
    "red=np.random.rand(len(dash)) <= 0.92\n",
    "small=dash[~red]\n",
    "\n",
    "# Check sample\n",
    "small.shape"
   ]
  },
  {
   "cell_type": "code",
   "execution_count": 39,
   "id": "20c84a76-cd1c-41c5-9c3d-31f86b65c53f",
   "metadata": {
    "tags": []
   },
   "outputs": [],
   "source": [
    "# Save dashboard data\n",
    "small.to_csv(r'../Data/Prepared/dashdata.csv')"
   ]
  }
 ],
 "metadata": {
  "kernelspec": {
   "display_name": "keplergl_env",
   "language": "python",
   "name": "python3"
  },
  "language_info": {
   "codemirror_mode": {
    "name": "ipython",
    "version": 3
   },
   "file_extension": ".py",
   "mimetype": "text/x-python",
   "name": "python",
   "nbconvert_exporter": "python",
   "pygments_lexer": "ipython3",
   "version": "3.10.15"
  }
 },
 "nbformat": 4,
 "nbformat_minor": 5
}
