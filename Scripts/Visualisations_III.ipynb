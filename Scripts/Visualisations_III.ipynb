{
 "cells": [
  {
   "cell_type": "markdown",
   "id": "b939fb4d-6ffb-4f8c-be93-4a3a06d8e7e6",
   "metadata": {},
   "source": [
    "## Import Libraries and Files"
   ]
  },
  {
   "cell_type": "code",
   "execution_count": 3,
   "id": "fb04f9c1-2240-4d1e-871a-fc4863ec817d",
   "metadata": {
    "tags": []
   },
   "outputs": [],
   "source": [
    "# Import Libraries \n",
    "import pandas as pd\n",
    "import numpy as np\n",
    "import os\n",
    "import matplotlib.pyplot as plt\n",
    "from plotly.subplots import make_subplots\n",
    "import plotly.graph_objects as go\n",
    "import streamlit as st\n",
    "from datetime import datetime as dt"
   ]
  },
  {
   "cell_type": "code",
   "execution_count": 4,
   "id": "387a1694-b57e-4565-a9cc-4f1a2a5b57d4",
   "metadata": {
    "tags": []
   },
   "outputs": [],
   "source": [
    "# Import File\n",
    "bike = pd.read_pickle(r'../Data/Prepared/bike_flag.pkl')"
   ]
  },
  {
   "cell_type": "markdown",
   "id": "9c8bc81f-20e5-4e12-adcf-361a275a6830",
   "metadata": {},
   "source": [
    "## Data Preparation"
   ]
  },
  {
   "cell_type": "code",
   "execution_count": 5,
   "id": "ca396d18-854b-4eec-bd15-d053332668b9",
   "metadata": {
    "tags": []
   },
   "outputs": [],
   "source": [
    "# Create Month col. \n",
    "bike['date'] = pd.to_datetime(bike['date'], format = '%Y-%m-%d')"
   ]
  },
  {
   "cell_type": "code",
   "execution_count": 6,
   "id": "10d40fbe-2dc3-4ff2-be4b-89ef20a55cfb",
   "metadata": {
    "tags": []
   },
   "outputs": [],
   "source": [
    "bike['month'] = bike['date'].dt.month"
   ]
  },
  {
   "cell_type": "code",
   "execution_count": 7,
   "id": "09c95557-5a54-4783-ac40-2ace6a09e3a6",
   "metadata": {
    "tags": []
   },
   "outputs": [],
   "source": [
    "bike['month'] = bike['month'].astype('int')"
   ]
  },
  {
   "cell_type": "code",
   "execution_count": 8,
   "id": "4a13150a-be35-4ce6-a353-dd8ba43092fd",
   "metadata": {
    "tags": []
   },
   "outputs": [],
   "source": [
    "# Create season col. \n",
    "bike['season'] = [\n",
    "    'winter' if (12 < month <=3)\n",
    "    else 'spring' if (3 < month <=6)\n",
    "    else 'summer' if (6 < month <=9)\n",
    "    else 'fall'\n",
    "for month in bike['month']\n",
    "]"
   ]
  },
  {
   "cell_type": "markdown",
   "id": "000715c6-3325-4382-972f-b9468cd90375",
   "metadata": {},
   "source": [
    "## Visualisations "
   ]
  },
  {
   "cell_type": "markdown",
   "id": "6b403feb-4935-4514-8c42-73052ef40e3a",
   "metadata": {},
   "source": [
    "#### bar chart"
   ]
  },
  {
   "cell_type": "code",
   "execution_count": 10,
   "id": "4f5529c5-fc54-466a-8e47-ba339e2b2854",
   "metadata": {
    "tags": []
   },
   "outputs": [],
   "source": [
    "# Look for most popular stations\n",
    "bike['value'] = 1\n",
    "bike_grouped = bike.groupby('start_station', as_index = False).agg({'value' : 'sum'})"
   ]
  },
  {
   "cell_type": "code",
   "execution_count": 11,
   "id": "a5c4d5e4-e364-4945-ba2e-61bf82c01462",
   "metadata": {
    "tags": []
   },
   "outputs": [],
   "source": [
    "# Define top 20 start stations\n",
    "top20 = bike_grouped.nlargest(20, 'value')"
   ]
  },
  {
   "cell_type": "code",
   "execution_count": null,
   "id": "e6669b3f-5416-4908-9c42-529a35e2ce50",
   "metadata": {
    "tags": []
   },
   "outputs": [],
   "source": [
    "# Plot top 20 start stations\n",
    "fig = go.Figure(go.Bar(x = top20['start_station'], y = top20['value'], marker = {'color' : top20['value'], 'colorscale' : 'oranges'} ))\n",
    "fig.update_layout(\n",
    "    title = '20 Most Popular Bike Stations in NY', \n",
    "                  xaxis_title = 'Start Stations', \n",
    "                  yaxis_title = 'Trips', \n",
    "                  width = 900, \n",
    "                  height = 600\n",
    ")"
   ]
  },
  {
   "cell_type": "markdown",
   "id": "8b1b57b2-73e6-4365-9b7d-f88f3727f1ff",
   "metadata": {
    "tags": []
   },
   "source": [
    "#### line chart"
   ]
  },
  {
   "cell_type": "code",
   "execution_count": 31,
   "id": "ac317b51-c0a9-41bd-a306-8aea913d93a3",
   "metadata": {
    "tags": []
   },
   "outputs": [],
   "source": [
    "# Sort the data by date\n",
    "bike = bike.sort_values(by='date')"
   ]
  },
  {
   "cell_type": "code",
   "execution_count": null,
   "id": "4b2f53c4-c97e-40b8-b1c7-74c410d3ce2c",
   "metadata": {
    "tags": []
   },
   "outputs": [],
   "source": [
    "# Create subplot with secondary y-axis\n",
    "fig = make_subplots(specs=[[{'secondary_y': True}]])\n",
    "\n",
    "# Add first trace for Daily Bike Rides (primary y-axis)\n",
    "fig.add_trace(\n",
    "    go.Scatter(\n",
    "        x=bike['date'], \n",
    "        y=bike['trips_per_day'], \n",
    "        name='Daily Bike Rides', \n",
    "        marker={'color': 'blue'},\n",
    "        line=dict(color='blue')\n",
    "    ), secondary_y=False  #Specify secondary_y  \n",
    ")\n",
    "\n",
    "# Add second trace for Daily Temperature (secondary y-axis)\n",
    "fig.add_trace(\n",
    "    go.Scatter(\n",
    "        x=bike['date'], \n",
    "        y=bike['avg_temp'], \n",
    "        name='Daily Temperature', \n",
    "        marker={'color': 'red'},\n",
    "        line=dict(color='red')\n",
    "    ), secondary_y=True  # Specify secondary_y here\n",
    ")\n",
    "\n",
    "# Update layout\n",
    "fig.update_layout(\n",
    "    title='Daily Bike Trips and Temperature in NY (2023)', \n",
    "    height=800\n",
    ")"
   ]
  },
  {
   "cell_type": "markdown",
   "id": "548172f6-cd41-49cc-a073-3e2893602260",
   "metadata": {},
   "source": [
    "## Save Files"
   ]
  },
  {
   "cell_type": "code",
   "execution_count": 12,
   "id": "974fb0d4-7659-4462-b22e-607f262db223",
   "metadata": {
    "tags": []
   },
   "outputs": [],
   "source": [
    "# Save top 20 start stations\n",
    "top20.to_csv(r'../Data/Prepared/top20.csv')"
   ]
  },
  {
   "cell_type": "code",
   "execution_count": 18,
   "id": "86d3ae31-2c66-4692-aef8-e859b90e4858",
   "metadata": {
    "tags": []
   },
   "outputs": [
    {
     "data": {
      "text/plain": [
       "(79019, 6)"
      ]
     },
     "execution_count": 18,
     "metadata": {},
     "output_type": "execute_result"
    }
   ],
   "source": [
    "# Select data for dashboard\n",
    "dash = bike[['date', 'start_station', 'trips_per_day', 'avg_temp', 'season', 'value']]\n",
    "\n",
    "# Sample data\n",
    "np.random.seed(32)\n",
    "red = np.random.rand(len(dash)) <= 0.92\n",
    "small = dash[~red]\n",
    "\n",
    "# Check sample\n",
    "small.shape\n",
    "\n",
    " "
   ]
  },
  {
   "cell_type": "code",
   "execution_count": 19,
   "id": "20c84a76-cd1c-41c5-9c3d-31f86b65c53f",
   "metadata": {
    "tags": []
   },
   "outputs": [],
   "source": [
    "# Save dashboard data\n",
    "small.to_csv(r'../Data/Prepared/dashdata.csv')"
   ]
  }
 ],
 "metadata": {
  "kernelspec": {
   "display_name": "keplergl_env",
   "language": "python",
   "name": "python3"
  },
  "language_info": {
   "codemirror_mode": {
    "name": "ipython",
    "version": 3
   },
   "file_extension": ".py",
   "mimetype": "text/x-python",
   "name": "python",
   "nbconvert_exporter": "python",
   "pygments_lexer": "ipython3",
   "version": "3.10.15"
  }
 },
 "nbformat": 4,
 "nbformat_minor": 5
}
