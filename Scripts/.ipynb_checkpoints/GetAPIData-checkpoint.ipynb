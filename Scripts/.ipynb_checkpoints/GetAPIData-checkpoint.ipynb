{
 "cells": [
  {
   "cell_type": "markdown",
   "id": "02cfb463-9f86-49d8-9651-a7e070ee2e19",
   "metadata": {},
   "source": [
    "## Import Libraries and Files"
   ]
  },
  {
   "cell_type": "code",
   "execution_count": 158,
   "id": "b59b66e1-a314-43fb-82ed-78c2410f1a2b",
   "metadata": {
    "tags": []
   },
   "outputs": [],
   "source": [
    "# Import Libraries \n",
    "import pandas as pd\n",
    "import numpy as np \n",
    "import os \n",
    "import requests\n",
    "import json\n",
    "from datetime import datetime\n",
    "from dotenv import load_dotenv\n",
    "import geopandas as gpd\n",
    "from shapely.geometry import Point\n",
    "from geopy.distance import geodesic\n",
    "import itertools"
   ]
  },
  {
   "cell_type": "code",
   "execution_count": 160,
   "id": "1f084dd1-e440-4520-a502-165be2939cd9",
   "metadata": {
    "tags": []
   },
   "outputs": [],
   "source": [
    "# Import bikesharing data for 2023\n",
    "folderpaths = r'../Data/Original/2023'"
   ]
  },
  {
   "cell_type": "code",
   "execution_count": 162,
   "id": "cebad222-2a71-4db2-8bc2-6b8901f8059f",
   "metadata": {
    "tags": []
   },
   "outputs": [],
   "source": [
    "filepaths = [os.path.join(folderpaths, name) \n",
    "            for name in os.listdir(folderpaths)]"
   ]
  },
  {
   "cell_type": "code",
   "execution_count": 163,
   "id": "9a282d97-26a1-49b5-9106-d887177de119",
   "metadata": {
    "tags": []
   },
   "outputs": [],
   "source": [
    "# Concatenate files\n",
    "bike = pd.concat((pd.read_csv(f) for f in filepaths), ignore_index = True)"
   ]
  },
  {
   "cell_type": "code",
   "execution_count": 690,
   "id": "5533a9fa-7929-4313-90cb-026d2946999e",
   "metadata": {
    "tags": []
   },
   "outputs": [
    {
     "data": {
      "text/plain": [
       "Index(['ride_id', 'rideable_type', 'started_at', 'ended_at',\n",
       "       'start_station_name', 'start_station_id', 'end_station_name',\n",
       "       'end_station_id', 'start_lat', 'start_lng', 'end_lat', 'end_lng',\n",
       "       'member_casual'],\n",
       "      dtype='object')"
      ]
     },
     "execution_count": 690,
     "metadata": {},
     "output_type": "execute_result"
    }
   ],
   "source": [
    "bike.columns"
   ]
  },
  {
   "cell_type": "code",
   "execution_count": 9,
   "id": "609d897d-537e-4027-9620-8a225e2324f3",
   "metadata": {
    "tags": []
   },
   "outputs": [
    {
     "data": {
      "text/plain": [
       "(988851, 13)"
      ]
     },
     "execution_count": 9,
     "metadata": {},
     "output_type": "execute_result"
    }
   ],
   "source": [
    "bike.shape"
   ]
  },
  {
   "cell_type": "code",
   "execution_count": 110,
   "id": "42a22654-33ce-4aec-b740-46935a0e5d68",
   "metadata": {
    "tags": []
   },
   "outputs": [
    {
     "data": {
      "text/plain": [
       "True"
      ]
     },
     "execution_count": 110,
     "metadata": {},
     "output_type": "execute_result"
    }
   ],
   "source": [
    "# Import weather data\n",
    "load_dotenv() # Load the .env filea"
   ]
  },
  {
   "cell_type": "code",
   "execution_count": 112,
   "id": "35e404aa-c488-4fe0-9d8c-fa9e629fcd79",
   "metadata": {
    "tags": []
   },
   "outputs": [],
   "source": [
    "#Token \n",
    "token = os.getenv('APItoken')"
   ]
  },
  {
   "cell_type": "code",
   "execution_count": 114,
   "id": "6f8bf573-fd0a-426c-93c2-a8a54ca7fe79",
   "metadata": {
    "tags": []
   },
   "outputs": [],
   "source": [
    "# Get Data\n",
    "r = requests.get('https://www.ncdc.noaa.gov/cdo-web/api/v2/data?datasetid=GHCND&datatypeid=TAVG&limit=1000&stationid=GHCND:USW00014732&startdate=2023-01-01&enddate=2023-12-31', headers={'token':token})"
   ]
  },
  {
   "cell_type": "code",
   "execution_count": 116,
   "id": "5e6fca3a-8b02-4152-b530-7c2dce259f37",
   "metadata": {
    "tags": []
   },
   "outputs": [],
   "source": [
    "# Load the API responses Json\n",
    "d = json.loads(r.text)"
   ]
  },
  {
   "cell_type": "code",
   "execution_count": 118,
   "id": "2c02d501-d318-4cb0-b12d-d25a7c92f246",
   "metadata": {
    "tags": []
   },
   "outputs": [],
   "source": [
    "# Load stations file\n",
    "stations = pd.read_csv(r'../Data/Original/stations.csv', index_col=0)"
   ]
  },
  {
   "cell_type": "markdown",
   "id": "7d874c0b-f697-4b64-bdc9-484ee47f8fe6",
   "metadata": {
    "tags": []
   },
   "source": [
    "## Data Cleaning"
   ]
  },
  {
   "cell_type": "code",
   "execution_count": 872,
   "id": "fbcae1ff-0c38-4e10-884f-49c7d51681eb",
   "metadata": {
    "tags": []
   },
   "outputs": [
    {
     "data": {
      "text/html": [
       "<div>\n",
       "<style scoped>\n",
       "    .dataframe tbody tr th:only-of-type {\n",
       "        vertical-align: middle;\n",
       "    }\n",
       "\n",
       "    .dataframe tbody tr th {\n",
       "        vertical-align: top;\n",
       "    }\n",
       "\n",
       "    .dataframe thead th {\n",
       "        text-align: right;\n",
       "    }\n",
       "</style>\n",
       "<table border=\"1\" class=\"dataframe\">\n",
       "  <thead>\n",
       "    <tr style=\"text-align: right;\">\n",
       "      <th></th>\n",
       "      <th>ride_id</th>\n",
       "      <th>rideable_type</th>\n",
       "      <th>started_at</th>\n",
       "      <th>ended_at</th>\n",
       "      <th>start_station_name</th>\n",
       "      <th>start_station_id</th>\n",
       "      <th>end_station_name</th>\n",
       "      <th>end_station_id</th>\n",
       "      <th>start_lat</th>\n",
       "      <th>start_lng</th>\n",
       "      <th>end_lat</th>\n",
       "      <th>end_lng</th>\n",
       "      <th>member_casual</th>\n",
       "    </tr>\n",
       "  </thead>\n",
       "  <tbody>\n",
       "    <tr>\n",
       "      <th>0</th>\n",
       "      <td>E2E964A161F786AB</td>\n",
       "      <td>classic_bike</td>\n",
       "      <td>2023-08-07 19:37:47</td>\n",
       "      <td>2023-08-07 19:41:14</td>\n",
       "      <td>6 St &amp; Grand St</td>\n",
       "      <td>HB302</td>\n",
       "      <td>Madison St &amp; 10 St</td>\n",
       "      <td>HB503</td>\n",
       "      <td>40.744398</td>\n",
       "      <td>-74.034501</td>\n",
       "      <td>40.749943</td>\n",
       "      <td>-74.035865</td>\n",
       "      <td>member</td>\n",
       "    </tr>\n",
       "    <tr>\n",
       "      <th>1</th>\n",
       "      <td>0660F2E48E3BB87F</td>\n",
       "      <td>classic_bike</td>\n",
       "      <td>2023-08-01 13:16:22</td>\n",
       "      <td>2023-08-01 13:26:02</td>\n",
       "      <td>6 St &amp; Grand St</td>\n",
       "      <td>HB302</td>\n",
       "      <td>6 St &amp; Grand St</td>\n",
       "      <td>HB302</td>\n",
       "      <td>40.744398</td>\n",
       "      <td>-74.034501</td>\n",
       "      <td>40.744398</td>\n",
       "      <td>-74.034501</td>\n",
       "      <td>member</td>\n",
       "    </tr>\n",
       "    <tr>\n",
       "      <th>2</th>\n",
       "      <td>940FC7C675232897</td>\n",
       "      <td>classic_bike</td>\n",
       "      <td>2023-08-15 17:28:23</td>\n",
       "      <td>2023-08-15 17:50:35</td>\n",
       "      <td>Heights Elevator</td>\n",
       "      <td>JC059</td>\n",
       "      <td>Heights Elevator</td>\n",
       "      <td>JC059</td>\n",
       "      <td>40.748721</td>\n",
       "      <td>-74.040480</td>\n",
       "      <td>40.748716</td>\n",
       "      <td>-74.040443</td>\n",
       "      <td>member</td>\n",
       "    </tr>\n",
       "    <tr>\n",
       "      <th>3</th>\n",
       "      <td>E967660CC5CD585B</td>\n",
       "      <td>classic_bike</td>\n",
       "      <td>2023-08-01 12:44:24</td>\n",
       "      <td>2023-08-01 12:49:45</td>\n",
       "      <td>Hoboken Ave at Monmouth St</td>\n",
       "      <td>JC105</td>\n",
       "      <td>Hoboken Terminal - River St &amp; Hudson Pl</td>\n",
       "      <td>HB102</td>\n",
       "      <td>40.735279</td>\n",
       "      <td>-74.046830</td>\n",
       "      <td>40.736068</td>\n",
       "      <td>-74.029127</td>\n",
       "      <td>member</td>\n",
       "    </tr>\n",
       "    <tr>\n",
       "      <th>4</th>\n",
       "      <td>D997CB0B855FE2D6</td>\n",
       "      <td>classic_bike</td>\n",
       "      <td>2023-08-08 12:31:16</td>\n",
       "      <td>2023-08-08 12:40:18</td>\n",
       "      <td>Hoboken Ave at Monmouth St</td>\n",
       "      <td>JC105</td>\n",
       "      <td>Hoboken Terminal - River St &amp; Hudson Pl</td>\n",
       "      <td>HB102</td>\n",
       "      <td>40.735208</td>\n",
       "      <td>-74.046964</td>\n",
       "      <td>40.736068</td>\n",
       "      <td>-74.029127</td>\n",
       "      <td>member</td>\n",
       "    </tr>\n",
       "  </tbody>\n",
       "</table>\n",
       "</div>"
      ],
      "text/plain": [
       "            ride_id rideable_type           started_at             ended_at  \\\n",
       "0  E2E964A161F786AB  classic_bike  2023-08-07 19:37:47  2023-08-07 19:41:14   \n",
       "1  0660F2E48E3BB87F  classic_bike  2023-08-01 13:16:22  2023-08-01 13:26:02   \n",
       "2  940FC7C675232897  classic_bike  2023-08-15 17:28:23  2023-08-15 17:50:35   \n",
       "3  E967660CC5CD585B  classic_bike  2023-08-01 12:44:24  2023-08-01 12:49:45   \n",
       "4  D997CB0B855FE2D6  classic_bike  2023-08-08 12:31:16  2023-08-08 12:40:18   \n",
       "\n",
       "           start_station_name start_station_id  \\\n",
       "0             6 St & Grand St            HB302   \n",
       "1             6 St & Grand St            HB302   \n",
       "2            Heights Elevator            JC059   \n",
       "3  Hoboken Ave at Monmouth St            JC105   \n",
       "4  Hoboken Ave at Monmouth St            JC105   \n",
       "\n",
       "                          end_station_name end_station_id  start_lat  \\\n",
       "0                       Madison St & 10 St          HB503  40.744398   \n",
       "1                          6 St & Grand St          HB302  40.744398   \n",
       "2                         Heights Elevator          JC059  40.748721   \n",
       "3  Hoboken Terminal - River St & Hudson Pl          HB102  40.735279   \n",
       "4  Hoboken Terminal - River St & Hudson Pl          HB102  40.735208   \n",
       "\n",
       "   start_lng    end_lat    end_lng member_casual  \n",
       "0 -74.034501  40.749943 -74.035865        member  \n",
       "1 -74.034501  40.744398 -74.034501        member  \n",
       "2 -74.040480  40.748716 -74.040443        member  \n",
       "3 -74.046830  40.736068 -74.029127        member  \n",
       "4 -74.046964  40.736068 -74.029127        member  "
      ]
     },
     "execution_count": 872,
     "metadata": {},
     "output_type": "execute_result"
    }
   ],
   "source": [
    "bike.head()"
   ]
  },
  {
   "cell_type": "code",
   "execution_count": 875,
   "id": "de95f624-2c1d-4da7-bedb-2365824f475b",
   "metadata": {
    "tags": []
   },
   "outputs": [
    {
     "data": {
      "text/plain": [
       "0"
      ]
     },
     "execution_count": 875,
     "metadata": {},
     "output_type": "execute_result"
    }
   ],
   "source": [
    "# Look for Duplicates\n",
    "dup = bike.duplicated()\n",
    "dup.sum()"
   ]
  },
  {
   "cell_type": "code",
   "execution_count": 877,
   "id": "36b016a3-0d30-4eec-a5a1-9b488f214921",
   "metadata": {
    "tags": []
   },
   "outputs": [
    {
     "data": {
      "text/plain": [
       "ride_id                  0\n",
       "rideable_type            0\n",
       "started_at               0\n",
       "ended_at                 0\n",
       "start_station_name      85\n",
       "start_station_id        85\n",
       "end_station_name      3319\n",
       "end_station_id        3319\n",
       "start_lat                0\n",
       "start_lng                0\n",
       "end_lat                954\n",
       "end_lng                954\n",
       "member_casual            0\n",
       "dtype: int64"
      ]
     },
     "execution_count": 877,
     "metadata": {},
     "output_type": "execute_result"
    }
   ],
   "source": [
    "# Look for missing values\n",
    "bike.isna().sum()"
   ]
  },
  {
   "cell_type": "code",
   "execution_count": 11,
   "id": "f4087580-4589-4a83-8fa2-958802ab772f",
   "metadata": {
    "tags": []
   },
   "outputs": [],
   "source": [
    "# Isolate NaN values for in depth check\n",
    "bike_nan = bike[bike['start_station_name'].isna()]"
   ]
  },
  {
   "cell_type": "code",
   "execution_count": 880,
   "id": "550f0aa7-0673-4be3-9a1f-26c38ed21595",
   "metadata": {
    "tags": []
   },
   "outputs": [
    {
     "data": {
      "text/html": [
       "<div>\n",
       "<style scoped>\n",
       "    .dataframe tbody tr th:only-of-type {\n",
       "        vertical-align: middle;\n",
       "    }\n",
       "\n",
       "    .dataframe tbody tr th {\n",
       "        vertical-align: top;\n",
       "    }\n",
       "\n",
       "    .dataframe thead th {\n",
       "        text-align: right;\n",
       "    }\n",
       "</style>\n",
       "<table border=\"1\" class=\"dataframe\">\n",
       "  <thead>\n",
       "    <tr style=\"text-align: right;\">\n",
       "      <th></th>\n",
       "      <th>ride_id</th>\n",
       "      <th>rideable_type</th>\n",
       "      <th>started_at</th>\n",
       "      <th>ended_at</th>\n",
       "      <th>start_station_name</th>\n",
       "      <th>start_station_id</th>\n",
       "      <th>end_station_name</th>\n",
       "      <th>end_station_id</th>\n",
       "      <th>start_lat</th>\n",
       "      <th>start_lng</th>\n",
       "      <th>end_lat</th>\n",
       "      <th>end_lng</th>\n",
       "      <th>member_casual</th>\n",
       "    </tr>\n",
       "  </thead>\n",
       "  <tbody>\n",
       "    <tr>\n",
       "      <th>215557</th>\n",
       "      <td>55E37C3B31D0CA41</td>\n",
       "      <td>classic_bike</td>\n",
       "      <td>2023-12-21 20:47:37</td>\n",
       "      <td>2023-12-21 20:53:27</td>\n",
       "      <td>NaN</td>\n",
       "      <td>NaN</td>\n",
       "      <td>Marshall St &amp; 2 St</td>\n",
       "      <td>HB408</td>\n",
       "      <td>40.74</td>\n",
       "      <td>-74.03</td>\n",
       "      <td>40.740802</td>\n",
       "      <td>-74.042521</td>\n",
       "      <td>casual</td>\n",
       "    </tr>\n",
       "    <tr>\n",
       "      <th>215703</th>\n",
       "      <td>698206F9E30736D0</td>\n",
       "      <td>classic_bike</td>\n",
       "      <td>2023-12-13 19:36:28</td>\n",
       "      <td>2023-12-13 19:55:50</td>\n",
       "      <td>NaN</td>\n",
       "      <td>NaN</td>\n",
       "      <td>Newark Ave</td>\n",
       "      <td>JC032</td>\n",
       "      <td>40.72</td>\n",
       "      <td>-74.05</td>\n",
       "      <td>40.721525</td>\n",
       "      <td>-74.046305</td>\n",
       "      <td>member</td>\n",
       "    </tr>\n",
       "    <tr>\n",
       "      <th>215855</th>\n",
       "      <td>E259F6D2E4000E7A</td>\n",
       "      <td>classic_bike</td>\n",
       "      <td>2023-12-06 00:35:31</td>\n",
       "      <td>2023-12-06 00:40:25</td>\n",
       "      <td>NaN</td>\n",
       "      <td>NaN</td>\n",
       "      <td>11 St &amp; Washington St</td>\n",
       "      <td>HB502</td>\n",
       "      <td>40.74</td>\n",
       "      <td>-74.03</td>\n",
       "      <td>40.749985</td>\n",
       "      <td>-74.027150</td>\n",
       "      <td>member</td>\n",
       "    </tr>\n",
       "    <tr>\n",
       "      <th>215864</th>\n",
       "      <td>1C14C743E76756E0</td>\n",
       "      <td>classic_bike</td>\n",
       "      <td>2023-12-13 00:13:52</td>\n",
       "      <td>2023-12-13 01:14:01</td>\n",
       "      <td>NaN</td>\n",
       "      <td>NaN</td>\n",
       "      <td>NaN</td>\n",
       "      <td>NaN</td>\n",
       "      <td>40.73</td>\n",
       "      <td>-74.03</td>\n",
       "      <td>40.730000</td>\n",
       "      <td>-74.030000</td>\n",
       "      <td>member</td>\n",
       "    </tr>\n",
       "    <tr>\n",
       "      <th>253486</th>\n",
       "      <td>F3741EB4D3CCABD9</td>\n",
       "      <td>classic_bike</td>\n",
       "      <td>2023-04-18 09:19:02</td>\n",
       "      <td>2023-04-18 10:19:52</td>\n",
       "      <td>NaN</td>\n",
       "      <td>NaN</td>\n",
       "      <td>NaN</td>\n",
       "      <td>NaN</td>\n",
       "      <td>40.73</td>\n",
       "      <td>-74.06</td>\n",
       "      <td>40.730000</td>\n",
       "      <td>-74.060000</td>\n",
       "      <td>casual</td>\n",
       "    </tr>\n",
       "  </tbody>\n",
       "</table>\n",
       "</div>"
      ],
      "text/plain": [
       "                 ride_id rideable_type           started_at  \\\n",
       "215557  55E37C3B31D0CA41  classic_bike  2023-12-21 20:47:37   \n",
       "215703  698206F9E30736D0  classic_bike  2023-12-13 19:36:28   \n",
       "215855  E259F6D2E4000E7A  classic_bike  2023-12-06 00:35:31   \n",
       "215864  1C14C743E76756E0  classic_bike  2023-12-13 00:13:52   \n",
       "253486  F3741EB4D3CCABD9  classic_bike  2023-04-18 09:19:02   \n",
       "\n",
       "                   ended_at start_station_name start_station_id  \\\n",
       "215557  2023-12-21 20:53:27                NaN              NaN   \n",
       "215703  2023-12-13 19:55:50                NaN              NaN   \n",
       "215855  2023-12-06 00:40:25                NaN              NaN   \n",
       "215864  2023-12-13 01:14:01                NaN              NaN   \n",
       "253486  2023-04-18 10:19:52                NaN              NaN   \n",
       "\n",
       "             end_station_name end_station_id  start_lat  start_lng    end_lat  \\\n",
       "215557     Marshall St & 2 St          HB408      40.74     -74.03  40.740802   \n",
       "215703             Newark Ave          JC032      40.72     -74.05  40.721525   \n",
       "215855  11 St & Washington St          HB502      40.74     -74.03  40.749985   \n",
       "215864                    NaN            NaN      40.73     -74.03  40.730000   \n",
       "253486                    NaN            NaN      40.73     -74.06  40.730000   \n",
       "\n",
       "          end_lng member_casual  \n",
       "215557 -74.042521        casual  \n",
       "215703 -74.046305        member  \n",
       "215855 -74.027150        member  \n",
       "215864 -74.030000        member  \n",
       "253486 -74.060000        casual  "
      ]
     },
     "execution_count": 880,
     "metadata": {},
     "output_type": "execute_result"
    }
   ],
   "source": [
    "bike_nan.head()"
   ]
  },
  {
   "cell_type": "code",
   "execution_count": 19,
   "id": "847c3181-812a-4c13-bf0e-744c92d6506a",
   "metadata": {
    "tags": []
   },
   "outputs": [
    {
     "data": {
      "text/html": [
       "<div>\n",
       "<style scoped>\n",
       "    .dataframe tbody tr th:only-of-type {\n",
       "        vertical-align: middle;\n",
       "    }\n",
       "\n",
       "    .dataframe tbody tr th {\n",
       "        vertical-align: top;\n",
       "    }\n",
       "\n",
       "    .dataframe thead th {\n",
       "        text-align: right;\n",
       "    }\n",
       "</style>\n",
       "<table border=\"1\" class=\"dataframe\">\n",
       "  <thead>\n",
       "    <tr style=\"text-align: right;\">\n",
       "      <th></th>\n",
       "      <th>station_id</th>\n",
       "      <th>name</th>\n",
       "      <th>lat</th>\n",
       "      <th>lon</th>\n",
       "    </tr>\n",
       "  </thead>\n",
       "  <tbody>\n",
       "    <tr>\n",
       "      <th>0</th>\n",
       "      <td>1965202298784063998</td>\n",
       "      <td>Lafayette Ave &amp; Franklin Ave</td>\n",
       "      <td>40.689271</td>\n",
       "      <td>-73.957324</td>\n",
       "    </tr>\n",
       "    <tr>\n",
       "      <th>1</th>\n",
       "      <td>66de63cd-0aca-11e7-82f6-3863bb44ef7c</td>\n",
       "      <td>Columbia St &amp; Degraw St</td>\n",
       "      <td>40.685930</td>\n",
       "      <td>-74.002424</td>\n",
       "    </tr>\n",
       "    <tr>\n",
       "      <th>2</th>\n",
       "      <td>8d650b03-920d-4d44-a48f-8d9a1a0ba264</td>\n",
       "      <td>W 190 St &amp; Broadway</td>\n",
       "      <td>40.856487</td>\n",
       "      <td>-73.932970</td>\n",
       "    </tr>\n",
       "    <tr>\n",
       "      <th>3</th>\n",
       "      <td>5645b05e-85be-460d-8506-cacd20bff233</td>\n",
       "      <td>36 St &amp; 3 Ave</td>\n",
       "      <td>40.655716</td>\n",
       "      <td>-74.006664</td>\n",
       "    </tr>\n",
       "    <tr>\n",
       "      <th>4</th>\n",
       "      <td>1846085734612252774</td>\n",
       "      <td>98 St &amp; 41 Ave</td>\n",
       "      <td>40.747730</td>\n",
       "      <td>-73.866490</td>\n",
       "    </tr>\n",
       "  </tbody>\n",
       "</table>\n",
       "</div>"
      ],
      "text/plain": [
       "                             station_id                          name  \\\n",
       "0                   1965202298784063998  Lafayette Ave & Franklin Ave   \n",
       "1  66de63cd-0aca-11e7-82f6-3863bb44ef7c       Columbia St & Degraw St   \n",
       "2  8d650b03-920d-4d44-a48f-8d9a1a0ba264           W 190 St & Broadway   \n",
       "3  5645b05e-85be-460d-8506-cacd20bff233                 36 St & 3 Ave   \n",
       "4                   1846085734612252774                98 St & 41 Ave   \n",
       "\n",
       "         lat        lon  \n",
       "0  40.689271 -73.957324  \n",
       "1  40.685930 -74.002424  \n",
       "2  40.856487 -73.932970  \n",
       "3  40.655716 -74.006664  \n",
       "4  40.747730 -73.866490  "
      ]
     },
     "execution_count": 19,
     "metadata": {},
     "output_type": "execute_result"
    }
   ],
   "source": [
    "# Check stations DataFrame \n",
    "stations.head()"
   ]
  },
  {
   "cell_type": "code",
   "execution_count": 11,
   "id": "341977e9-5e48-4aa1-a042-bf2a0b5bf3d3",
   "metadata": {
    "tags": []
   },
   "outputs": [],
   "source": [
    "# Parameters for sampling\n",
    "sample_size = 500"
   ]
  },
  {
   "cell_type": "code",
   "execution_count": 13,
   "id": "ee323a53-8253-4d72-ad35-3f5584007189",
   "metadata": {
    "tags": []
   },
   "outputs": [],
   "source": [
    "# Take a random sample of stations (ensure reproducibility with random_state)\n",
    "sample = bike.sample(n=min(sample_size, len(stations)), random_state=42)"
   ]
  },
  {
   "cell_type": "code",
   "execution_count": 15,
   "id": "45c4dfbe-5159-4cb6-8ead-71ddfba39691",
   "metadata": {
    "tags": []
   },
   "outputs": [],
   "source": [
    "# Calculate average distance between the stations\n",
    "def calculate_distance(row1, row2):\n",
    "    loc1 = (row1['start_lat'], row1['start_lng'])\n",
    "    loc2 = (row2['start_lat'], row2['start_lng'])\n",
    "    return geodesic(loc1, loc2).meters  "
   ]
  },
  {
   "cell_type": "code",
   "execution_count": 17,
   "id": "e2936bcc-2d21-47d1-9d7c-3f6d02733413",
   "metadata": {
    "tags": []
   },
   "outputs": [],
   "source": [
    "# Check if sample has more than 1 station\n",
    "if len(sample) < 2:\n",
    "    print(\"Not enough stations in the sample to calculate distances.\")\n",
    "else:\n",
    "    # Get all pairs of stations in the sample\n",
    "    pairs = list(itertools.combinations(sample.iterrows(), 2))"
   ]
  },
  {
   "cell_type": "code",
   "execution_count": 19,
   "id": "d076d6a4-8e93-43f7-bb89-86671231d5d9",
   "metadata": {
    "tags": []
   },
   "outputs": [],
   "source": [
    "# Calculate the distances for each pair and store them\n",
    "distances = []\n",
    "for pair in pairs:\n",
    "    row1, row2 = pair[0][1], pair[1][1]  # Extract the rows (skip the index)\n",
    "    distance = calculate_distance(row1, row2)\n",
    "    distances.append(distance)"
   ]
  },
  {
   "cell_type": "code",
   "execution_count": 21,
   "id": "1f1ed48d-4183-470d-9fc3-3dc2b300f662",
   "metadata": {},
   "outputs": [
    {
     "name": "stdout",
     "output_type": "stream",
     "text": [
      "Average distance between sampled stations: 2113.66 meters\n"
     ]
    }
   ],
   "source": [
    "# Ensure distances list is not empty before calculating the average\n",
    "if distances:\n",
    "        average_distance = sum(distances) / len(distances)\n",
    "        print(f\"Average distance between sampled stations: {average_distance:.2f} meters\")\n",
    "else:\n",
    "        print(\"No valid pairs of stations to calculate distance.\")"
   ]
  },
  {
   "cell_type": "code",
   "execution_count": 166,
   "id": "fa151e7f-e559-4b79-84dd-6a06692cc46b",
   "metadata": {
    "tags": []
   },
   "outputs": [],
   "source": [
    "# Convert bike and stations DataFrames to GeoDataFrames for end stations\n",
    "bike['geometry'] = bike.apply(lambda row: Point(row['end_lng'], row['end_lat']), axis=1)\n",
    "stations['geometry'] = stations.apply(lambda row: Point(row['lon'], row['lat']), axis=1)"
   ]
  },
  {
   "cell_type": "code",
   "execution_count": 168,
   "id": "42c19d69-4a83-4d67-a68c-38313deb0c84",
   "metadata": {
    "tags": []
   },
   "outputs": [],
   "source": [
    "# Convert both DataFrames to GeoDataFrames\n",
    "bike_gdf = gpd.GeoDataFrame(bike, geometry='geometry')\n",
    "stations_gdf = gpd.GeoDataFrame(stations, geometry='geometry')"
   ]
  },
  {
   "cell_type": "code",
   "execution_count": 170,
   "id": "8ae5fde4-ea95-4af6-ad72-623c0bb76333",
   "metadata": {
    "tags": []
   },
   "outputs": [
    {
     "data": {
      "text/html": [
       "<div>\n",
       "<style scoped>\n",
       "    .dataframe tbody tr th:only-of-type {\n",
       "        vertical-align: middle;\n",
       "    }\n",
       "\n",
       "    .dataframe tbody tr th {\n",
       "        vertical-align: top;\n",
       "    }\n",
       "\n",
       "    .dataframe thead th {\n",
       "        text-align: right;\n",
       "    }\n",
       "</style>\n",
       "<table border=\"1\" class=\"dataframe\">\n",
       "  <thead>\n",
       "    <tr style=\"text-align: right;\">\n",
       "      <th></th>\n",
       "      <th>station_id</th>\n",
       "      <th>name</th>\n",
       "      <th>lat</th>\n",
       "      <th>lon</th>\n",
       "      <th>geometry</th>\n",
       "    </tr>\n",
       "  </thead>\n",
       "  <tbody>\n",
       "    <tr>\n",
       "      <th>0</th>\n",
       "      <td>1965202298784063998</td>\n",
       "      <td>Lafayette Ave &amp; Franklin Ave</td>\n",
       "      <td>40.689271</td>\n",
       "      <td>-73.957324</td>\n",
       "      <td>POINT (-73.95732 40.68927)</td>\n",
       "    </tr>\n",
       "    <tr>\n",
       "      <th>1</th>\n",
       "      <td>66de63cd-0aca-11e7-82f6-3863bb44ef7c</td>\n",
       "      <td>Columbia St &amp; Degraw St</td>\n",
       "      <td>40.685930</td>\n",
       "      <td>-74.002424</td>\n",
       "      <td>POINT (-74.00242 40.68593)</td>\n",
       "    </tr>\n",
       "    <tr>\n",
       "      <th>2</th>\n",
       "      <td>8d650b03-920d-4d44-a48f-8d9a1a0ba264</td>\n",
       "      <td>W 190 St &amp; Broadway</td>\n",
       "      <td>40.856487</td>\n",
       "      <td>-73.932970</td>\n",
       "      <td>POINT (-73.93297 40.85649)</td>\n",
       "    </tr>\n",
       "    <tr>\n",
       "      <th>3</th>\n",
       "      <td>5645b05e-85be-460d-8506-cacd20bff233</td>\n",
       "      <td>36 St &amp; 3 Ave</td>\n",
       "      <td>40.655716</td>\n",
       "      <td>-74.006664</td>\n",
       "      <td>POINT (-74.00666 40.65572)</td>\n",
       "    </tr>\n",
       "    <tr>\n",
       "      <th>4</th>\n",
       "      <td>1846085734612252774</td>\n",
       "      <td>98 St &amp; 41 Ave</td>\n",
       "      <td>40.747730</td>\n",
       "      <td>-73.866490</td>\n",
       "      <td>POINT (-73.86649 40.74773)</td>\n",
       "    </tr>\n",
       "    <tr>\n",
       "      <th>...</th>\n",
       "      <td>...</td>\n",
       "      <td>...</td>\n",
       "      <td>...</td>\n",
       "      <td>...</td>\n",
       "      <td>...</td>\n",
       "    </tr>\n",
       "    <tr>\n",
       "      <th>2224</th>\n",
       "      <td>5aa81a37-ea1d-4bf6-ab40-4751c6b4fb08</td>\n",
       "      <td>Fairmount Ave</td>\n",
       "      <td>40.725726</td>\n",
       "      <td>-74.071959</td>\n",
       "      <td>POINT (-74.07196 40.72573)</td>\n",
       "    </tr>\n",
       "    <tr>\n",
       "      <th>2225</th>\n",
       "      <td>46813ecf-8df4-4c8f-9579-0179e0b36ba6</td>\n",
       "      <td>Marshall St &amp; 2 St</td>\n",
       "      <td>40.740802</td>\n",
       "      <td>-74.042521</td>\n",
       "      <td>POINT (-74.04252 40.7408)</td>\n",
       "    </tr>\n",
       "    <tr>\n",
       "      <th>2226</th>\n",
       "      <td>66ddd93e-0aca-11e7-82f6-3863bb44ef7c</td>\n",
       "      <td>Jersey &amp; 6th St</td>\n",
       "      <td>40.725289</td>\n",
       "      <td>-74.045572</td>\n",
       "      <td>POINT (-74.04557 40.72529)</td>\n",
       "    </tr>\n",
       "    <tr>\n",
       "      <th>2227</th>\n",
       "      <td>66ddddb4-0aca-11e7-82f6-3863bb44ef7c</td>\n",
       "      <td>Monmouth and 6th</td>\n",
       "      <td>40.725685</td>\n",
       "      <td>-74.048790</td>\n",
       "      <td>POINT (-74.04879 40.72569)</td>\n",
       "    </tr>\n",
       "    <tr>\n",
       "      <th>2228</th>\n",
       "      <td>66dd5a42-0aca-11e7-82f6-3863bb44ef7c</td>\n",
       "      <td>Warren St</td>\n",
       "      <td>40.721124</td>\n",
       "      <td>-74.038051</td>\n",
       "      <td>POINT (-74.03805 40.72112)</td>\n",
       "    </tr>\n",
       "  </tbody>\n",
       "</table>\n",
       "<p>2229 rows × 5 columns</p>\n",
       "</div>"
      ],
      "text/plain": [
       "                                station_id                          name  \\\n",
       "0                      1965202298784063998  Lafayette Ave & Franklin Ave   \n",
       "1     66de63cd-0aca-11e7-82f6-3863bb44ef7c       Columbia St & Degraw St   \n",
       "2     8d650b03-920d-4d44-a48f-8d9a1a0ba264           W 190 St & Broadway   \n",
       "3     5645b05e-85be-460d-8506-cacd20bff233                 36 St & 3 Ave   \n",
       "4                      1846085734612252774                98 St & 41 Ave   \n",
       "...                                    ...                           ...   \n",
       "2224  5aa81a37-ea1d-4bf6-ab40-4751c6b4fb08                 Fairmount Ave   \n",
       "2225  46813ecf-8df4-4c8f-9579-0179e0b36ba6            Marshall St & 2 St   \n",
       "2226  66ddd93e-0aca-11e7-82f6-3863bb44ef7c               Jersey & 6th St   \n",
       "2227  66ddddb4-0aca-11e7-82f6-3863bb44ef7c              Monmouth and 6th   \n",
       "2228  66dd5a42-0aca-11e7-82f6-3863bb44ef7c                     Warren St   \n",
       "\n",
       "            lat        lon                    geometry  \n",
       "0     40.689271 -73.957324  POINT (-73.95732 40.68927)  \n",
       "1     40.685930 -74.002424  POINT (-74.00242 40.68593)  \n",
       "2     40.856487 -73.932970  POINT (-73.93297 40.85649)  \n",
       "3     40.655716 -74.006664  POINT (-74.00666 40.65572)  \n",
       "4     40.747730 -73.866490  POINT (-73.86649 40.74773)  \n",
       "...         ...        ...                         ...  \n",
       "2224  40.725726 -74.071959  POINT (-74.07196 40.72573)  \n",
       "2225  40.740802 -74.042521   POINT (-74.04252 40.7408)  \n",
       "2226  40.725289 -74.045572  POINT (-74.04557 40.72529)  \n",
       "2227  40.725685 -74.048790  POINT (-74.04879 40.72569)  \n",
       "2228  40.721124 -74.038051  POINT (-74.03805 40.72112)  \n",
       "\n",
       "[2229 rows x 5 columns]"
      ]
     },
     "execution_count": 170,
     "metadata": {},
     "output_type": "execute_result"
    }
   ],
   "source": [
    "# Set coordinate reference system (CRS) for both GeoDataFrames\n",
    "bike_gdf.set_crs(\"EPSG:4326\", allow_override=True, inplace=True)\n",
    "stations_gdf.set_crs(\"EPSG:4326\", allow_override=True, inplace=True)"
   ]
  },
  {
   "cell_type": "code",
   "execution_count": 174,
   "id": "f34c2291-fddf-4392-9b79-30491192bc06",
   "metadata": {
    "tags": []
   },
   "outputs": [],
   "source": [
    "# Reproject both GeoDataFrames to a projected CRS (e.g., EPSG:3857 for Web Mercator)\n",
    "bike_gdf = bike_gdf.to_crs(\"EPSG:3857\")\n",
    "stations_gdf = stations_gdf.to_crs(\"EPSG:3857\")"
   ]
  },
  {
   "cell_type": "code",
   "execution_count": 176,
   "id": "ac6009d9-b481-448c-b8f5-21563a623265",
   "metadata": {
    "tags": []
   },
   "outputs": [],
   "source": [
    "# Perform the spatial join - find the nearest station within a distance threshold \n",
    "joined_gdf = gpd.sjoin_nearest(bike_gdf, stations_gdf, how=\"left\", max_distance=2000)"
   ]
  },
  {
   "cell_type": "code",
   "execution_count": 178,
   "id": "a7033f35-cb69-4ca4-be6a-7f3de9459bb2",
   "metadata": {
    "tags": []
   },
   "outputs": [],
   "source": [
    "# Access the `end_station_name` from the `stations` dataset and update `bike` DataFrame\n",
    "bike['end_station_name'] = joined_gdf['name']\n",
    "bike['end_station_id'] = joined_gdf['station_id']"
   ]
  },
  {
   "cell_type": "code",
   "execution_count": 180,
   "id": "f50f02af-0e97-42c0-957e-49adddb3c116",
   "metadata": {
    "tags": []
   },
   "outputs": [
    {
     "data": {
      "text/plain": [
       "ride_id                  0\n",
       "rideable_type            0\n",
       "started_at               0\n",
       "ended_at                 0\n",
       "start_station_name      85\n",
       "start_station_id        85\n",
       "end_station_name      1074\n",
       "end_station_id        1074\n",
       "start_lat                0\n",
       "start_lng                0\n",
       "end_lat                954\n",
       "end_lng                954\n",
       "member_casual            0\n",
       "geometry                 0\n",
       "dtype: int64"
      ]
     },
     "execution_count": 180,
     "metadata": {},
     "output_type": "execute_result"
    }
   ],
   "source": [
    "# Look for missing values\n",
    "bike.isna().sum()"
   ]
  },
  {
   "cell_type": "code",
   "execution_count": 182,
   "id": "c4210e05-27cd-4c82-82b3-a64607630000",
   "metadata": {},
   "outputs": [],
   "source": [
    "# Convert bike and stations DataFrames to GeoDataFrames for start stations\n",
    "bike['geometry'] = bike.apply(lambda row: Point(row['start_lng'], row['start_lat']), axis=1)"
   ]
  },
  {
   "cell_type": "code",
   "execution_count": 183,
   "id": "396ca795-fae4-4aeb-a483-94f77624dc46",
   "metadata": {
    "tags": []
   },
   "outputs": [],
   "source": [
    "# Convert to GeoDataFrames\n",
    "bike_gdf = gpd.GeoDataFrame(bike, geometry='geometry')"
   ]
  },
  {
   "cell_type": "code",
   "execution_count": 186,
   "id": "cd755fdc-8753-4bce-9dfe-f39746ee61f8",
   "metadata": {
    "tags": []
   },
   "outputs": [
    {
     "data": {
      "text/html": [
       "<div>\n",
       "<style scoped>\n",
       "    .dataframe tbody tr th:only-of-type {\n",
       "        vertical-align: middle;\n",
       "    }\n",
       "\n",
       "    .dataframe tbody tr th {\n",
       "        vertical-align: top;\n",
       "    }\n",
       "\n",
       "    .dataframe thead th {\n",
       "        text-align: right;\n",
       "    }\n",
       "</style>\n",
       "<table border=\"1\" class=\"dataframe\">\n",
       "  <thead>\n",
       "    <tr style=\"text-align: right;\">\n",
       "      <th></th>\n",
       "      <th>ride_id</th>\n",
       "      <th>rideable_type</th>\n",
       "      <th>started_at</th>\n",
       "      <th>ended_at</th>\n",
       "      <th>start_station_name</th>\n",
       "      <th>start_station_id</th>\n",
       "      <th>end_station_name</th>\n",
       "      <th>end_station_id</th>\n",
       "      <th>start_lat</th>\n",
       "      <th>start_lng</th>\n",
       "      <th>end_lat</th>\n",
       "      <th>end_lng</th>\n",
       "      <th>member_casual</th>\n",
       "      <th>geometry</th>\n",
       "    </tr>\n",
       "  </thead>\n",
       "  <tbody>\n",
       "    <tr>\n",
       "      <th>0</th>\n",
       "      <td>E2E964A161F786AB</td>\n",
       "      <td>classic_bike</td>\n",
       "      <td>2023-08-07 19:37:47</td>\n",
       "      <td>2023-08-07 19:41:14</td>\n",
       "      <td>6 St &amp; Grand St</td>\n",
       "      <td>HB302</td>\n",
       "      <td>Madison St &amp; 10 St</td>\n",
       "      <td>e385c162-6a1a-4e7a-90c1-45d5b6fa1195</td>\n",
       "      <td>40.744398</td>\n",
       "      <td>-74.034501</td>\n",
       "      <td>40.749943</td>\n",
       "      <td>-74.035865</td>\n",
       "      <td>member</td>\n",
       "      <td>POINT (-74.0345 40.7444)</td>\n",
       "    </tr>\n",
       "    <tr>\n",
       "      <th>1</th>\n",
       "      <td>0660F2E48E3BB87F</td>\n",
       "      <td>classic_bike</td>\n",
       "      <td>2023-08-01 13:16:22</td>\n",
       "      <td>2023-08-01 13:26:02</td>\n",
       "      <td>6 St &amp; Grand St</td>\n",
       "      <td>HB302</td>\n",
       "      <td>6 St &amp; Grand St</td>\n",
       "      <td>9d344652-976b-4c2d-bede-2ef19b0fbf13</td>\n",
       "      <td>40.744398</td>\n",
       "      <td>-74.034501</td>\n",
       "      <td>40.744398</td>\n",
       "      <td>-74.034501</td>\n",
       "      <td>member</td>\n",
       "      <td>POINT (-74.0345 40.7444)</td>\n",
       "    </tr>\n",
       "    <tr>\n",
       "      <th>2</th>\n",
       "      <td>940FC7C675232897</td>\n",
       "      <td>classic_bike</td>\n",
       "      <td>2023-08-15 17:28:23</td>\n",
       "      <td>2023-08-15 17:50:35</td>\n",
       "      <td>Heights Elevator</td>\n",
       "      <td>JC059</td>\n",
       "      <td>Heights Elevator</td>\n",
       "      <td>66dd63de-0aca-11e7-82f6-3863bb44ef7c</td>\n",
       "      <td>40.748721</td>\n",
       "      <td>-74.040480</td>\n",
       "      <td>40.748716</td>\n",
       "      <td>-74.040443</td>\n",
       "      <td>member</td>\n",
       "      <td>POINT (-74.04048 40.74872)</td>\n",
       "    </tr>\n",
       "    <tr>\n",
       "      <th>3</th>\n",
       "      <td>E967660CC5CD585B</td>\n",
       "      <td>classic_bike</td>\n",
       "      <td>2023-08-01 12:44:24</td>\n",
       "      <td>2023-08-01 12:49:45</td>\n",
       "      <td>Hoboken Ave at Monmouth St</td>\n",
       "      <td>JC105</td>\n",
       "      <td>Hoboken Terminal - River St &amp; Hudson Pl</td>\n",
       "      <td>0b56ffe7-056e-43ef-a0ac-9e1790f02f3d</td>\n",
       "      <td>40.735279</td>\n",
       "      <td>-74.046830</td>\n",
       "      <td>40.736068</td>\n",
       "      <td>-74.029127</td>\n",
       "      <td>member</td>\n",
       "      <td>POINT (-74.04683 40.73528)</td>\n",
       "    </tr>\n",
       "    <tr>\n",
       "      <th>4</th>\n",
       "      <td>D997CB0B855FE2D6</td>\n",
       "      <td>classic_bike</td>\n",
       "      <td>2023-08-08 12:31:16</td>\n",
       "      <td>2023-08-08 12:40:18</td>\n",
       "      <td>Hoboken Ave at Monmouth St</td>\n",
       "      <td>JC105</td>\n",
       "      <td>Hoboken Terminal - River St &amp; Hudson Pl</td>\n",
       "      <td>0b56ffe7-056e-43ef-a0ac-9e1790f02f3d</td>\n",
       "      <td>40.735208</td>\n",
       "      <td>-74.046964</td>\n",
       "      <td>40.736068</td>\n",
       "      <td>-74.029127</td>\n",
       "      <td>member</td>\n",
       "      <td>POINT (-74.04696 40.73521)</td>\n",
       "    </tr>\n",
       "    <tr>\n",
       "      <th>...</th>\n",
       "      <td>...</td>\n",
       "      <td>...</td>\n",
       "      <td>...</td>\n",
       "      <td>...</td>\n",
       "      <td>...</td>\n",
       "      <td>...</td>\n",
       "      <td>...</td>\n",
       "      <td>...</td>\n",
       "      <td>...</td>\n",
       "      <td>...</td>\n",
       "      <td>...</td>\n",
       "      <td>...</td>\n",
       "      <td>...</td>\n",
       "      <td>...</td>\n",
       "    </tr>\n",
       "    <tr>\n",
       "      <th>988846</th>\n",
       "      <td>EE6CF90DF3984253</td>\n",
       "      <td>classic_bike</td>\n",
       "      <td>2023-11-22 16:20:23</td>\n",
       "      <td>2023-11-22 16:26:38</td>\n",
       "      <td>Glenwood Ave</td>\n",
       "      <td>JC094</td>\n",
       "      <td>Bergen Ave &amp; Sip Ave</td>\n",
       "      <td>581211b2-4e42-48f2-8a8f-5f968cb1c5df</td>\n",
       "      <td>40.727551</td>\n",
       "      <td>-74.071061</td>\n",
       "      <td>40.731009</td>\n",
       "      <td>-74.064437</td>\n",
       "      <td>member</td>\n",
       "      <td>POINT (-74.07106 40.72755)</td>\n",
       "    </tr>\n",
       "    <tr>\n",
       "      <th>988847</th>\n",
       "      <td>DB574978E7FABC08</td>\n",
       "      <td>classic_bike</td>\n",
       "      <td>2023-11-21 07:01:57</td>\n",
       "      <td>2023-11-21 07:06:14</td>\n",
       "      <td>Glenwood Ave</td>\n",
       "      <td>JC094</td>\n",
       "      <td>Bergen Ave &amp; Sip Ave</td>\n",
       "      <td>581211b2-4e42-48f2-8a8f-5f968cb1c5df</td>\n",
       "      <td>40.727551</td>\n",
       "      <td>-74.071061</td>\n",
       "      <td>40.731009</td>\n",
       "      <td>-74.064437</td>\n",
       "      <td>member</td>\n",
       "      <td>POINT (-74.07106 40.72755)</td>\n",
       "    </tr>\n",
       "    <tr>\n",
       "      <th>988848</th>\n",
       "      <td>E8E26D6A35E922FA</td>\n",
       "      <td>classic_bike</td>\n",
       "      <td>2023-11-14 07:51:51</td>\n",
       "      <td>2023-11-14 08:04:20</td>\n",
       "      <td>Glenwood Ave</td>\n",
       "      <td>JC094</td>\n",
       "      <td>Montgomery St</td>\n",
       "      <td>6107e75a-2493-4e3d-a3e0-d4886d3416e5</td>\n",
       "      <td>40.727755</td>\n",
       "      <td>-74.071096</td>\n",
       "      <td>40.719420</td>\n",
       "      <td>-74.050990</td>\n",
       "      <td>member</td>\n",
       "      <td>POINT (-74.0711 40.72775)</td>\n",
       "    </tr>\n",
       "    <tr>\n",
       "      <th>988849</th>\n",
       "      <td>0D6ECB6E18E32C63</td>\n",
       "      <td>classic_bike</td>\n",
       "      <td>2023-11-17 08:15:06</td>\n",
       "      <td>2023-11-17 08:26:57</td>\n",
       "      <td>Glenwood Ave</td>\n",
       "      <td>JC094</td>\n",
       "      <td>Montgomery St</td>\n",
       "      <td>6107e75a-2493-4e3d-a3e0-d4886d3416e5</td>\n",
       "      <td>40.727624</td>\n",
       "      <td>-74.071103</td>\n",
       "      <td>40.719420</td>\n",
       "      <td>-74.050990</td>\n",
       "      <td>member</td>\n",
       "      <td>POINT (-74.0711 40.72762)</td>\n",
       "    </tr>\n",
       "    <tr>\n",
       "      <th>988850</th>\n",
       "      <td>817DBC6302EDF681</td>\n",
       "      <td>classic_bike</td>\n",
       "      <td>2023-11-16 10:55:31</td>\n",
       "      <td>2023-11-16 11:03:47</td>\n",
       "      <td>Glenwood Ave</td>\n",
       "      <td>JC094</td>\n",
       "      <td>Hilltop</td>\n",
       "      <td>66dd7cab-0aca-11e7-82f6-3863bb44ef7c</td>\n",
       "      <td>40.727551</td>\n",
       "      <td>-74.071061</td>\n",
       "      <td>40.731169</td>\n",
       "      <td>-74.057574</td>\n",
       "      <td>member</td>\n",
       "      <td>POINT (-74.07106 40.72755)</td>\n",
       "    </tr>\n",
       "  </tbody>\n",
       "</table>\n",
       "<p>988851 rows × 14 columns</p>\n",
       "</div>"
      ],
      "text/plain": [
       "                 ride_id rideable_type           started_at  \\\n",
       "0       E2E964A161F786AB  classic_bike  2023-08-07 19:37:47   \n",
       "1       0660F2E48E3BB87F  classic_bike  2023-08-01 13:16:22   \n",
       "2       940FC7C675232897  classic_bike  2023-08-15 17:28:23   \n",
       "3       E967660CC5CD585B  classic_bike  2023-08-01 12:44:24   \n",
       "4       D997CB0B855FE2D6  classic_bike  2023-08-08 12:31:16   \n",
       "...                  ...           ...                  ...   \n",
       "988846  EE6CF90DF3984253  classic_bike  2023-11-22 16:20:23   \n",
       "988847  DB574978E7FABC08  classic_bike  2023-11-21 07:01:57   \n",
       "988848  E8E26D6A35E922FA  classic_bike  2023-11-14 07:51:51   \n",
       "988849  0D6ECB6E18E32C63  classic_bike  2023-11-17 08:15:06   \n",
       "988850  817DBC6302EDF681  classic_bike  2023-11-16 10:55:31   \n",
       "\n",
       "                   ended_at          start_station_name start_station_id  \\\n",
       "0       2023-08-07 19:41:14             6 St & Grand St            HB302   \n",
       "1       2023-08-01 13:26:02             6 St & Grand St            HB302   \n",
       "2       2023-08-15 17:50:35            Heights Elevator            JC059   \n",
       "3       2023-08-01 12:49:45  Hoboken Ave at Monmouth St            JC105   \n",
       "4       2023-08-08 12:40:18  Hoboken Ave at Monmouth St            JC105   \n",
       "...                     ...                         ...              ...   \n",
       "988846  2023-11-22 16:26:38                Glenwood Ave            JC094   \n",
       "988847  2023-11-21 07:06:14                Glenwood Ave            JC094   \n",
       "988848  2023-11-14 08:04:20                Glenwood Ave            JC094   \n",
       "988849  2023-11-17 08:26:57                Glenwood Ave            JC094   \n",
       "988850  2023-11-16 11:03:47                Glenwood Ave            JC094   \n",
       "\n",
       "                               end_station_name  \\\n",
       "0                            Madison St & 10 St   \n",
       "1                               6 St & Grand St   \n",
       "2                              Heights Elevator   \n",
       "3       Hoboken Terminal - River St & Hudson Pl   \n",
       "4       Hoboken Terminal - River St & Hudson Pl   \n",
       "...                                         ...   \n",
       "988846                     Bergen Ave & Sip Ave   \n",
       "988847                     Bergen Ave & Sip Ave   \n",
       "988848                            Montgomery St   \n",
       "988849                            Montgomery St   \n",
       "988850                                  Hilltop   \n",
       "\n",
       "                              end_station_id  start_lat  start_lng    end_lat  \\\n",
       "0       e385c162-6a1a-4e7a-90c1-45d5b6fa1195  40.744398 -74.034501  40.749943   \n",
       "1       9d344652-976b-4c2d-bede-2ef19b0fbf13  40.744398 -74.034501  40.744398   \n",
       "2       66dd63de-0aca-11e7-82f6-3863bb44ef7c  40.748721 -74.040480  40.748716   \n",
       "3       0b56ffe7-056e-43ef-a0ac-9e1790f02f3d  40.735279 -74.046830  40.736068   \n",
       "4       0b56ffe7-056e-43ef-a0ac-9e1790f02f3d  40.735208 -74.046964  40.736068   \n",
       "...                                      ...        ...        ...        ...   \n",
       "988846  581211b2-4e42-48f2-8a8f-5f968cb1c5df  40.727551 -74.071061  40.731009   \n",
       "988847  581211b2-4e42-48f2-8a8f-5f968cb1c5df  40.727551 -74.071061  40.731009   \n",
       "988848  6107e75a-2493-4e3d-a3e0-d4886d3416e5  40.727755 -74.071096  40.719420   \n",
       "988849  6107e75a-2493-4e3d-a3e0-d4886d3416e5  40.727624 -74.071103  40.719420   \n",
       "988850  66dd7cab-0aca-11e7-82f6-3863bb44ef7c  40.727551 -74.071061  40.731169   \n",
       "\n",
       "          end_lng member_casual                    geometry  \n",
       "0      -74.035865        member    POINT (-74.0345 40.7444)  \n",
       "1      -74.034501        member    POINT (-74.0345 40.7444)  \n",
       "2      -74.040443        member  POINT (-74.04048 40.74872)  \n",
       "3      -74.029127        member  POINT (-74.04683 40.73528)  \n",
       "4      -74.029127        member  POINT (-74.04696 40.73521)  \n",
       "...           ...           ...                         ...  \n",
       "988846 -74.064437        member  POINT (-74.07106 40.72755)  \n",
       "988847 -74.064437        member  POINT (-74.07106 40.72755)  \n",
       "988848 -74.050990        member   POINT (-74.0711 40.72775)  \n",
       "988849 -74.050990        member   POINT (-74.0711 40.72762)  \n",
       "988850 -74.057574        member  POINT (-74.07106 40.72755)  \n",
       "\n",
       "[988851 rows x 14 columns]"
      ]
     },
     "execution_count": 186,
     "metadata": {},
     "output_type": "execute_result"
    }
   ],
   "source": [
    "# Set coordinate reference system (CRS)\n",
    "bike_gdf.set_crs(\"EPSG:4326\", allow_override=True, inplace=True)"
   ]
  },
  {
   "cell_type": "code",
   "execution_count": 188,
   "id": "ec11df17-ba2b-4711-90fd-35d482cc6e47",
   "metadata": {
    "tags": []
   },
   "outputs": [],
   "source": [
    "# Re-project to a projected CRS (e.g., EPSG:3857)\n",
    "bike_gdf = bike_gdf.to_crs(epsg=3857)"
   ]
  },
  {
   "cell_type": "code",
   "execution_count": 190,
   "id": "4b3b8489-07f0-4354-b772-6728b9bd319c",
   "metadata": {
    "tags": []
   },
   "outputs": [],
   "source": [
    "# Perform the spatial join - find the nearest station within a distance threshold \n",
    "joined_gdf = gpd.sjoin_nearest(bike_gdf, stations_gdf, how=\"left\", max_distance=2000)"
   ]
  },
  {
   "cell_type": "code",
   "execution_count": 192,
   "id": "fe6954d0-c3a0-43c9-9dfe-94b698716910",
   "metadata": {
    "tags": []
   },
   "outputs": [],
   "source": [
    "# Access the `start_station_name` from the `stations` dataset and update `bike` DataFrame\n",
    "bike['start_station_name'] = joined_gdf['name']\n",
    "bike['start_station_id'] = joined_gdf['station_id']"
   ]
  },
  {
   "cell_type": "code",
   "execution_count": 194,
   "id": "6ad1677b-d11b-4d2d-a29b-d69e258ed572",
   "metadata": {
    "tags": []
   },
   "outputs": [
    {
     "data": {
      "text/plain": [
       "ride_id                  0\n",
       "rideable_type            0\n",
       "started_at               0\n",
       "ended_at                 0\n",
       "start_station_name      15\n",
       "start_station_id        15\n",
       "end_station_name      1074\n",
       "end_station_id        1074\n",
       "start_lat                0\n",
       "start_lng                0\n",
       "end_lat                954\n",
       "end_lng                954\n",
       "member_casual            0\n",
       "geometry                 0\n",
       "dtype: int64"
      ]
     },
     "execution_count": 194,
     "metadata": {},
     "output_type": "execute_result"
    }
   ],
   "source": [
    "# Look for missing values\n",
    "bike.isna().sum()"
   ]
  },
  {
   "cell_type": "markdown",
   "id": "e27e2f5c-c955-48dc-bd0a-8f7ce60bfd4f",
   "metadata": {
    "tags": []
   },
   "source": [
    "## Data Wrangling"
   ]
  },
  {
   "cell_type": "code",
   "execution_count": 196,
   "id": "21f42a09-d1dc-4f5d-980b-b03def191ec6",
   "metadata": {
    "tags": []
   },
   "outputs": [],
   "source": [
    "# Get all items that correspond to TAVG\n",
    "avg_temps = [item for item in d['results'] if item['datatype']=='TAVG']"
   ]
  },
  {
   "cell_type": "code",
   "execution_count": 198,
   "id": "241d17dd-0885-4cc0-8259-3fb15b67c6e0",
   "metadata": {
    "tags": []
   },
   "outputs": [],
   "source": [
    "# Get only all average temperature readings\n",
    "data_temp = [item['date'] for item in avg_temps]"
   ]
  },
  {
   "cell_type": "code",
   "execution_count": 200,
   "id": "0aa3758e-7fd0-4410-a974-26b2c142cfe5",
   "metadata": {
    "tags": []
   },
   "outputs": [],
   "source": [
    "# Get the temperature from all average temperature readings\n",
    "temps = [item['value'] for item in avg_temps]"
   ]
  },
  {
   "cell_type": "code",
   "execution_count": 201,
   "id": "77a91f9e-9801-46a7-abb1-5a92428e3958",
   "metadata": {
    "tags": []
   },
   "outputs": [],
   "source": [
    "# Put lists in Dataframe\n",
    "df_temp = pd.DataFrame()"
   ]
  },
  {
   "cell_type": "code",
   "execution_count": 204,
   "id": "ed8a6e6c-7921-4e64-b526-69d11b564bb0",
   "metadata": {
    "tags": []
   },
   "outputs": [],
   "source": [
    "# Convert date format\n",
    "df_temp['date'] = [datetime.strptime(d, \"%Y-%m-%dT%H:%M:%S\") for d in data_temp]"
   ]
  },
  {
   "cell_type": "code",
   "execution_count": 206,
   "id": "013c7971-4438-4a12-8030-2fc5606b1824",
   "metadata": {
    "tags": []
   },
   "outputs": [],
   "source": [
    "# Convert temperature format\n",
    "df_temp['avg_temp'] = [float(v)/10.0 for v in temps]"
   ]
  },
  {
   "cell_type": "code",
   "execution_count": 207,
   "id": "c928e065-1a20-4cb3-9a35-c29891559fcf",
   "metadata": {
    "tags": []
   },
   "outputs": [],
   "source": [
    "# Convert bike format to datetime\n",
    "bike['started_at'] = pd.to_datetime(bike['started_at'], dayfirst=False)\n",
    "bike['date'] = pd.to_datetime(bike['started_at'], format='%Y-%m-%d').dt.date"
   ]
  },
  {
   "cell_type": "code",
   "execution_count": 208,
   "id": "4510df37-6c88-4cc8-b467-f4f7629d6805",
   "metadata": {
    "tags": []
   },
   "outputs": [],
   "source": [
    "# Match date format\n",
    "bike['date'] = pd.to_datetime(bike['started_at'], format='%Y-%m-%d').dt.date\n",
    "df_temp['date'] = pd.to_datetime(df_temp['date'], format='%Y-%m-%d').dt.date"
   ]
  },
  {
   "cell_type": "code",
   "execution_count": 212,
   "id": "d724879a-7e2c-4145-b48a-9e3829904249",
   "metadata": {
    "tags": []
   },
   "outputs": [
    {
     "name": "stdout",
     "output_type": "stream",
     "text": [
      "CPU times: user 379 ms, sys: 124 ms, total: 502 ms\n",
      "Wall time: 573 ms\n"
     ]
    }
   ],
   "source": [
    "%%time\n",
    "df_merged = bike.merge(df_temp, how = 'left', on = 'date', indicator = True)"
   ]
  },
  {
   "cell_type": "code",
   "execution_count": 214,
   "id": "ccdeb5b7-4c34-4f4e-83dc-3dda2f68bc71",
   "metadata": {
    "tags": []
   },
   "outputs": [
    {
     "data": {
      "text/plain": [
       "_merge\n",
       "both          988851\n",
       "left_only          0\n",
       "right_only         0\n",
       "Name: count, dtype: int64"
      ]
     },
     "execution_count": 214,
     "metadata": {},
     "output_type": "execute_result"
    }
   ],
   "source": [
    "# Check Merge\n",
    "df_merged['_merge'].value_counts(dropna = False)"
   ]
  },
  {
   "cell_type": "code",
   "execution_count": 216,
   "id": "0bba6434-76cf-4cae-b32b-a8b16421ec24",
   "metadata": {
    "tags": []
   },
   "outputs": [],
   "source": [
    "# Drop _merge col and geometry cols.\n",
    "df_merged.drop(columns=['_merge', 'geometry'], inplace=True)"
   ]
  },
  {
   "cell_type": "code",
   "execution_count": 218,
   "id": "5441be81-a5db-45f7-afa5-377e555a6054",
   "metadata": {
    "tags": []
   },
   "outputs": [
    {
     "data": {
      "text/html": [
       "<div>\n",
       "<style scoped>\n",
       "    .dataframe tbody tr th:only-of-type {\n",
       "        vertical-align: middle;\n",
       "    }\n",
       "\n",
       "    .dataframe tbody tr th {\n",
       "        vertical-align: top;\n",
       "    }\n",
       "\n",
       "    .dataframe thead th {\n",
       "        text-align: right;\n",
       "    }\n",
       "</style>\n",
       "<table border=\"1\" class=\"dataframe\">\n",
       "  <thead>\n",
       "    <tr style=\"text-align: right;\">\n",
       "      <th></th>\n",
       "      <th>started_at</th>\n",
       "      <th>start_lat</th>\n",
       "      <th>start_lng</th>\n",
       "      <th>end_lat</th>\n",
       "      <th>end_lng</th>\n",
       "      <th>avg_temp</th>\n",
       "    </tr>\n",
       "  </thead>\n",
       "  <tbody>\n",
       "    <tr>\n",
       "      <th>count</th>\n",
       "      <td>988851</td>\n",
       "      <td>988851.000000</td>\n",
       "      <td>988851.000000</td>\n",
       "      <td>987897.000000</td>\n",
       "      <td>987897.000000</td>\n",
       "      <td>988851.000000</td>\n",
       "    </tr>\n",
       "    <tr>\n",
       "      <th>mean</th>\n",
       "      <td>2023-07-10 23:54:00.570720512</td>\n",
       "      <td>40.732335</td>\n",
       "      <td>-74.040128</td>\n",
       "      <td>40.732309</td>\n",
       "      <td>-74.039856</td>\n",
       "      <td>16.491544</td>\n",
       "    </tr>\n",
       "    <tr>\n",
       "      <th>min</th>\n",
       "      <td>2023-01-01 00:06:36</td>\n",
       "      <td>40.678334</td>\n",
       "      <td>-74.087223</td>\n",
       "      <td>40.645070</td>\n",
       "      <td>-74.190000</td>\n",
       "      <td>-10.700000</td>\n",
       "    </tr>\n",
       "    <tr>\n",
       "      <th>25%</th>\n",
       "      <td>2023-04-27 20:39:55.500000</td>\n",
       "      <td>40.721124</td>\n",
       "      <td>-74.045572</td>\n",
       "      <td>40.721124</td>\n",
       "      <td>-74.044247</td>\n",
       "      <td>10.100000</td>\n",
       "    </tr>\n",
       "    <tr>\n",
       "      <th>50%</th>\n",
       "      <td>2023-07-16 01:12:25</td>\n",
       "      <td>40.735208</td>\n",
       "      <td>-74.037683</td>\n",
       "      <td>40.735208</td>\n",
       "      <td>-74.037683</td>\n",
       "      <td>17.300000</td>\n",
       "    </tr>\n",
       "    <tr>\n",
       "      <th>75%</th>\n",
       "      <td>2023-09-23 23:27:24</td>\n",
       "      <td>40.742301</td>\n",
       "      <td>-74.031028</td>\n",
       "      <td>40.742258</td>\n",
       "      <td>-74.030970</td>\n",
       "      <td>23.400000</td>\n",
       "    </tr>\n",
       "    <tr>\n",
       "      <th>max</th>\n",
       "      <td>2023-12-31 23:59:57</td>\n",
       "      <td>40.863943</td>\n",
       "      <td>-73.941173</td>\n",
       "      <td>40.864480</td>\n",
       "      <td>-73.888719</td>\n",
       "      <td>30.700000</td>\n",
       "    </tr>\n",
       "    <tr>\n",
       "      <th>std</th>\n",
       "      <td>NaN</td>\n",
       "      <td>0.012192</td>\n",
       "      <td>0.011929</td>\n",
       "      <td>0.012319</td>\n",
       "      <td>0.011992</td>\n",
       "      <td>7.820234</td>\n",
       "    </tr>\n",
       "  </tbody>\n",
       "</table>\n",
       "</div>"
      ],
      "text/plain": [
       "                          started_at      start_lat      start_lng  \\\n",
       "count                         988851  988851.000000  988851.000000   \n",
       "mean   2023-07-10 23:54:00.570720512      40.732335     -74.040128   \n",
       "min              2023-01-01 00:06:36      40.678334     -74.087223   \n",
       "25%       2023-04-27 20:39:55.500000      40.721124     -74.045572   \n",
       "50%              2023-07-16 01:12:25      40.735208     -74.037683   \n",
       "75%              2023-09-23 23:27:24      40.742301     -74.031028   \n",
       "max              2023-12-31 23:59:57      40.863943     -73.941173   \n",
       "std                              NaN       0.012192       0.011929   \n",
       "\n",
       "             end_lat        end_lng       avg_temp  \n",
       "count  987897.000000  987897.000000  988851.000000  \n",
       "mean       40.732309     -74.039856      16.491544  \n",
       "min        40.645070     -74.190000     -10.700000  \n",
       "25%        40.721124     -74.044247      10.100000  \n",
       "50%        40.735208     -74.037683      17.300000  \n",
       "75%        40.742258     -74.030970      23.400000  \n",
       "max        40.864480     -73.888719      30.700000  \n",
       "std         0.012319       0.011992       7.820234  "
      ]
     },
     "execution_count": 218,
     "metadata": {},
     "output_type": "execute_result"
    }
   ],
   "source": [
    "## Summary Statistics\n",
    "df_merged.describe()"
   ]
  },
  {
   "cell_type": "code",
   "execution_count": 220,
   "id": "ee6bd7ec-6718-47a6-89fd-fc3bed7aa266",
   "metadata": {
    "tags": []
   },
   "outputs": [],
   "source": [
    "# Rename cols\n",
    "df_merged.rename(columns={'rideable_type':'bike_type', 'started_at':'start_time', 'ended_at':'end_time', 'start_station_name':'start_station', 'end_station_name':'end_station', 'member_casual':'membership'}, inplace=True)"
   ]
  },
  {
   "cell_type": "markdown",
   "id": "8122e817-bc36-4665-a5de-177fe26c2674",
   "metadata": {
    "tags": []
   },
   "source": [
    "## Save File"
   ]
  },
  {
   "cell_type": "code",
   "execution_count": 222,
   "id": "01abcf44-cb81-426d-8e42-f959fafea070",
   "metadata": {
    "tags": []
   },
   "outputs": [],
   "source": [
    "df_merged.to_pickle(r'../Data/Prepared/bike_final.pkl')"
   ]
  },
  {
   "cell_type": "code",
   "execution_count": null,
   "id": "69eb2d9a-7564-4d23-8c4f-d7cafc97c0bf",
   "metadata": {},
   "outputs": [],
   "source": []
  }
 ],
 "metadata": {
  "kernelspec": {
   "display_name": "Python [conda env:geopandas_env]",
   "language": "python",
   "name": "conda-env-geopandas_env-py"
  },
  "language_info": {
   "codemirror_mode": {
    "name": "ipython",
    "version": 3
   },
   "file_extension": ".py",
   "mimetype": "text/x-python",
   "name": "python",
   "nbconvert_exporter": "python",
   "pygments_lexer": "ipython3",
   "version": "3.10.13"
  }
 },
 "nbformat": 4,
 "nbformat_minor": 5
}
