{
 "cells": [
  {
   "cell_type": "markdown",
   "id": "02cfb463-9f86-49d8-9651-a7e070ee2e19",
   "metadata": {},
   "source": [
    "## Import Libraries and Files"
   ]
  },
  {
   "cell_type": "code",
   "execution_count": 72,
   "id": "b59b66e1-a314-43fb-82ed-78c2410f1a2b",
   "metadata": {
    "tags": []
   },
   "outputs": [],
   "source": [
    "# Import Libraries \n",
    "import pandas as pd\n",
    "import numpy as np \n",
    "import os \n",
    "import requests\n",
    "import json\n",
    "from datetime import datetime\n",
    "from dotenv import load_dotenv"
   ]
  },
  {
   "cell_type": "code",
   "execution_count": 74,
   "id": "89c207b3-a1f7-46f5-aa5c-856c491aff2e",
   "metadata": {},
   "outputs": [],
   "source": [
    "# Import bikesharing data\n",
    "folderpath = r'../Data/Original'"
   ]
  },
  {
   "cell_type": "code",
   "execution_count": 76,
   "id": "d2602033-8873-4ceb-9024-cd5348174c9a",
   "metadata": {
    "tags": []
   },
   "outputs": [],
   "source": [
    "filepath = [os.path.join(folderpath, name) \n",
    "            for name in os.listdir(folderpath)]"
   ]
  },
  {
   "cell_type": "code",
   "execution_count": 78,
   "id": "b8e03692-4573-4cb9-973c-45358d4cc63c",
   "metadata": {
    "tags": []
   },
   "outputs": [],
   "source": [
    "# Concatenate Files\n",
    "bike = pd.concat((pd.read_csv(f) for f in filepath), ignore_index=True)"
   ]
  },
  {
   "cell_type": "code",
   "execution_count": 80,
   "id": "42a22654-33ce-4aec-b740-46935a0e5d68",
   "metadata": {
    "tags": []
   },
   "outputs": [
    {
     "data": {
      "text/plain": [
       "True"
      ]
     },
     "execution_count": 80,
     "metadata": {},
     "output_type": "execute_result"
    }
   ],
   "source": [
    "# Import weather data\n",
    "load_dotenv() # Load the .env file"
   ]
  },
  {
   "cell_type": "code",
   "execution_count": 82,
   "id": "35e404aa-c488-4fe0-9d8c-fa9e629fcd79",
   "metadata": {
    "tags": []
   },
   "outputs": [],
   "source": [
    "token = os.getenv('APItoken')"
   ]
  },
  {
   "cell_type": "code",
   "execution_count": 84,
   "id": "6f8bf573-fd0a-426c-93c2-a8a54ca7fe79",
   "metadata": {
    "tags": []
   },
   "outputs": [],
   "source": [
    "# Get Data\n",
    "r = requests.get('https://www.ncdc.noaa.gov/cdo-web/api/v2/data?datasetid=GHCND&datatypeid=TAVG&limit=1000&stationid=GHCND:USW00014732&startdate=2022-01-01&enddate=2022-12-31', headers={'token':token})"
   ]
  },
  {
   "cell_type": "code",
   "execution_count": 86,
   "id": "5e6fca3a-8b02-4152-b530-7c2dce259f37",
   "metadata": {
    "tags": []
   },
   "outputs": [],
   "source": [
    "# Load the API response as Json\n",
    "d = json.loads(r.text)"
   ]
  },
  {
   "cell_type": "markdown",
   "id": "e27e2f5c-c955-48dc-bd0a-8f7ce60bfd4f",
   "metadata": {
    "tags": []
   },
   "source": [
    "## Data Wrangling"
   ]
  },
  {
   "cell_type": "code",
   "execution_count": 88,
   "id": "21f42a09-d1dc-4f5d-980b-b03def191ec6",
   "metadata": {
    "tags": []
   },
   "outputs": [],
   "source": [
    "# Get all items that correspond to TAVG\n",
    "avg_temps = [item for item in d['results'] if item['datatype']=='TAVG']"
   ]
  },
  {
   "cell_type": "code",
   "execution_count": 90,
   "id": "241d17dd-0885-4cc0-8259-3fb15b67c6e0",
   "metadata": {
    "tags": []
   },
   "outputs": [],
   "source": [
    "# Get only all average temperature readings\n",
    "data_temp = [item['date'] for item in avg_temps]"
   ]
  },
  {
   "cell_type": "code",
   "execution_count": 92,
   "id": "0aa3758e-7fd0-4410-a974-26b2c142cfe5",
   "metadata": {
    "tags": []
   },
   "outputs": [],
   "source": [
    "# Get the temperature from all average temperature readings\n",
    "temps = [item['value'] for item in avg_temps]"
   ]
  },
  {
   "cell_type": "code",
   "execution_count": 94,
   "id": "77a91f9e-9801-46a7-abb1-5a92428e3958",
   "metadata": {
    "tags": []
   },
   "outputs": [],
   "source": [
    "# Pit lists in Dataframe\n",
    "df_temp = pd.DataFrame()"
   ]
  },
  {
   "cell_type": "code",
   "execution_count": 96,
   "id": "ed8a6e6c-7921-4e64-b526-69d11b564bb0",
   "metadata": {
    "tags": []
   },
   "outputs": [],
   "source": [
    "# Convert date format\n",
    "df_temp['date'] = [datetime.strptime(d, \"%Y-%m-%dT%H:%M:%S\") for d in data_temp] "
   ]
  },
  {
   "cell_type": "code",
   "execution_count": 100,
   "id": "013c7971-4438-4a12-8030-2fc5606b1824",
   "metadata": {
    "tags": []
   },
   "outputs": [],
   "source": [
    "# Convert temperature format\n",
    "df_temp['avg_temp'] = [float(v)/10.0 for v in temps]"
   ]
  },
  {
   "cell_type": "code",
   "execution_count": 102,
   "id": "c928e065-1a20-4cb3-9a35-c29891559fcf",
   "metadata": {
    "tags": []
   },
   "outputs": [],
   "source": [
    "## Convert bike format to datetime\n",
    "bike['started_at'] = pd.to_datetime(bike['started_at'], dayfirst=True)\n",
    "bike['date'] = pd.to_datetime(bike['started_at'], format='%Y-%m-%d').dt.date"
   ]
  },
  {
   "cell_type": "code",
   "execution_count": 104,
   "id": "4510df37-6c88-4cc8-b467-f4f7629d6805",
   "metadata": {
    "tags": []
   },
   "outputs": [],
   "source": [
    "# Match date format\n",
    "bike['date'] = pd.to_datetime(bike['started_at'], format='%Y-%m-%d').dt.date\n",
    "df_temp['date'] = pd.to_datetime(df_temp['date'], format='%Y-%m-%d').dt.date"
   ]
  },
  {
   "cell_type": "markdown",
   "id": "7f5b67a3-59e4-402c-b28a-168972df8e3c",
   "metadata": {},
   "source": [
    "## Merge Datasets"
   ]
  },
  {
   "cell_type": "code",
   "execution_count": 106,
   "id": "d724879a-7e2c-4145-b48a-9e3829904249",
   "metadata": {
    "tags": []
   },
   "outputs": [],
   "source": [
    "# Merge datasets\n",
    "df_merged = bike.merge(df_temp, how = 'left', on = 'date', indicator = True)"
   ]
  },
  {
   "cell_type": "code",
   "execution_count": 108,
   "id": "ccdeb5b7-4c34-4f4e-83dc-3dda2f68bc71",
   "metadata": {
    "tags": []
   },
   "outputs": [
    {
     "data": {
      "text/plain": [
       "both          895485\n",
       "left_only          0\n",
       "right_only         0\n",
       "Name: _merge, dtype: int64"
      ]
     },
     "execution_count": 108,
     "metadata": {},
     "output_type": "execute_result"
    }
   ],
   "source": [
    "# Check Merge\n",
    "df_merged['_merge'].value_counts(dropna = False)"
   ]
  },
  {
   "cell_type": "code",
   "execution_count": 110,
   "id": "36f3597e-1efe-4acb-aa11-73ff266e188d",
   "metadata": {
    "tags": []
   },
   "outputs": [
    {
     "data": {
      "text/html": [
       "<div>\n",
       "<style scoped>\n",
       "    .dataframe tbody tr th:only-of-type {\n",
       "        vertical-align: middle;\n",
       "    }\n",
       "\n",
       "    .dataframe tbody tr th {\n",
       "        vertical-align: top;\n",
       "    }\n",
       "\n",
       "    .dataframe thead th {\n",
       "        text-align: right;\n",
       "    }\n",
       "</style>\n",
       "<table border=\"1\" class=\"dataframe\">\n",
       "  <thead>\n",
       "    <tr style=\"text-align: right;\">\n",
       "      <th></th>\n",
       "      <th>ride_id</th>\n",
       "      <th>rideable_type</th>\n",
       "      <th>started_at</th>\n",
       "      <th>ended_at</th>\n",
       "      <th>start_station_name</th>\n",
       "      <th>start_station_id</th>\n",
       "      <th>end_station_name</th>\n",
       "      <th>end_station_id</th>\n",
       "      <th>start_lat</th>\n",
       "      <th>start_lng</th>\n",
       "      <th>end_lat</th>\n",
       "      <th>end_lng</th>\n",
       "      <th>member_casual</th>\n",
       "      <th>date</th>\n",
       "      <th>avg_temp</th>\n",
       "      <th>_merge</th>\n",
       "    </tr>\n",
       "  </thead>\n",
       "  <tbody>\n",
       "    <tr>\n",
       "      <th>0</th>\n",
       "      <td>3255D3E3F33CDC45</td>\n",
       "      <td>classic_bike</td>\n",
       "      <td>2022-03-18 15:38:17</td>\n",
       "      <td>2022-03-18 15:45:34</td>\n",
       "      <td>Mama Johnson Field - 4 St &amp; Jackson St</td>\n",
       "      <td>HB404</td>\n",
       "      <td>South Waterfront Walkway - Sinatra Dr &amp; 1 St</td>\n",
       "      <td>HB103</td>\n",
       "      <td>40.743140</td>\n",
       "      <td>-74.040041</td>\n",
       "      <td>40.736982</td>\n",
       "      <td>-74.027781</td>\n",
       "      <td>casual</td>\n",
       "      <td>2022-03-18</td>\n",
       "      <td>13.9</td>\n",
       "      <td>both</td>\n",
       "    </tr>\n",
       "    <tr>\n",
       "      <th>1</th>\n",
       "      <td>17FA5604A37338F9</td>\n",
       "      <td>electric_bike</td>\n",
       "      <td>2022-03-04 16:44:48</td>\n",
       "      <td>2022-03-04 16:50:45</td>\n",
       "      <td>Baldwin at Montgomery</td>\n",
       "      <td>JC020</td>\n",
       "      <td>Grove St PATH</td>\n",
       "      <td>JC005</td>\n",
       "      <td>40.723659</td>\n",
       "      <td>-74.064194</td>\n",
       "      <td>40.719586</td>\n",
       "      <td>-74.043117</td>\n",
       "      <td>member</td>\n",
       "      <td>2022-03-04</td>\n",
       "      <td>-1.9</td>\n",
       "      <td>both</td>\n",
       "    </tr>\n",
       "    <tr>\n",
       "      <th>2</th>\n",
       "      <td>7DEC9ADDB8D6BBE1</td>\n",
       "      <td>electric_bike</td>\n",
       "      <td>2022-03-13 17:44:32</td>\n",
       "      <td>2022-03-13 17:54:44</td>\n",
       "      <td>Baldwin at Montgomery</td>\n",
       "      <td>JC020</td>\n",
       "      <td>Grove St PATH</td>\n",
       "      <td>JC005</td>\n",
       "      <td>40.723659</td>\n",
       "      <td>-74.064194</td>\n",
       "      <td>40.719586</td>\n",
       "      <td>-74.043117</td>\n",
       "      <td>member</td>\n",
       "      <td>2022-03-13</td>\n",
       "      <td>-2.3</td>\n",
       "      <td>both</td>\n",
       "    </tr>\n",
       "    <tr>\n",
       "      <th>3</th>\n",
       "      <td>9D69F74EEF231A2E</td>\n",
       "      <td>classic_bike</td>\n",
       "      <td>2022-03-13 15:33:47</td>\n",
       "      <td>2022-03-13 15:41:22</td>\n",
       "      <td>Baldwin at Montgomery</td>\n",
       "      <td>JC020</td>\n",
       "      <td>Grove St PATH</td>\n",
       "      <td>JC005</td>\n",
       "      <td>40.723659</td>\n",
       "      <td>-74.064194</td>\n",
       "      <td>40.719586</td>\n",
       "      <td>-74.043117</td>\n",
       "      <td>member</td>\n",
       "      <td>2022-03-13</td>\n",
       "      <td>-2.3</td>\n",
       "      <td>both</td>\n",
       "    </tr>\n",
       "    <tr>\n",
       "      <th>4</th>\n",
       "      <td>C84AE4A9D78A6347</td>\n",
       "      <td>classic_bike</td>\n",
       "      <td>2022-03-11 12:21:18</td>\n",
       "      <td>2022-03-11 12:33:24</td>\n",
       "      <td>Baldwin at Montgomery</td>\n",
       "      <td>JC020</td>\n",
       "      <td>Grove St PATH</td>\n",
       "      <td>JC005</td>\n",
       "      <td>40.723659</td>\n",
       "      <td>-74.064194</td>\n",
       "      <td>40.719586</td>\n",
       "      <td>-74.043117</td>\n",
       "      <td>member</td>\n",
       "      <td>2022-03-11</td>\n",
       "      <td>7.2</td>\n",
       "      <td>both</td>\n",
       "    </tr>\n",
       "  </tbody>\n",
       "</table>\n",
       "</div>"
      ],
      "text/plain": [
       "            ride_id  rideable_type          started_at             ended_at  \\\n",
       "0  3255D3E3F33CDC45   classic_bike 2022-03-18 15:38:17  2022-03-18 15:45:34   \n",
       "1  17FA5604A37338F9  electric_bike 2022-03-04 16:44:48  2022-03-04 16:50:45   \n",
       "2  7DEC9ADDB8D6BBE1  electric_bike 2022-03-13 17:44:32  2022-03-13 17:54:44   \n",
       "3  9D69F74EEF231A2E   classic_bike 2022-03-13 15:33:47  2022-03-13 15:41:22   \n",
       "4  C84AE4A9D78A6347   classic_bike 2022-03-11 12:21:18  2022-03-11 12:33:24   \n",
       "\n",
       "                       start_station_name start_station_id  \\\n",
       "0  Mama Johnson Field - 4 St & Jackson St            HB404   \n",
       "1                   Baldwin at Montgomery            JC020   \n",
       "2                   Baldwin at Montgomery            JC020   \n",
       "3                   Baldwin at Montgomery            JC020   \n",
       "4                   Baldwin at Montgomery            JC020   \n",
       "\n",
       "                               end_station_name end_station_id  start_lat  \\\n",
       "0  South Waterfront Walkway - Sinatra Dr & 1 St          HB103  40.743140   \n",
       "1                                 Grove St PATH          JC005  40.723659   \n",
       "2                                 Grove St PATH          JC005  40.723659   \n",
       "3                                 Grove St PATH          JC005  40.723659   \n",
       "4                                 Grove St PATH          JC005  40.723659   \n",
       "\n",
       "   start_lng    end_lat    end_lng member_casual        date  avg_temp _merge  \n",
       "0 -74.040041  40.736982 -74.027781        casual  2022-03-18      13.9   both  \n",
       "1 -74.064194  40.719586 -74.043117        member  2022-03-04      -1.9   both  \n",
       "2 -74.064194  40.719586 -74.043117        member  2022-03-13      -2.3   both  \n",
       "3 -74.064194  40.719586 -74.043117        member  2022-03-13      -2.3   both  \n",
       "4 -74.064194  40.719586 -74.043117        member  2022-03-11       7.2   both  "
      ]
     },
     "execution_count": 110,
     "metadata": {},
     "output_type": "execute_result"
    }
   ],
   "source": [
    "# Check merged df\n",
    "df_merged.head(5)"
   ]
  },
  {
   "cell_type": "code",
   "execution_count": 112,
   "id": "b1b49981-007e-4ce0-a84f-9ce969dc4750",
   "metadata": {
    "tags": []
   },
   "outputs": [
    {
     "data": {
      "text/plain": [
       "(895485, 16)"
      ]
     },
     "execution_count": 112,
     "metadata": {},
     "output_type": "execute_result"
    }
   ],
   "source": [
    "df_merged.shape"
   ]
  },
  {
   "cell_type": "markdown",
   "id": "7d874c0b-f697-4b64-bdc9-484ee47f8fe6",
   "metadata": {},
   "source": [
    "## Data Cleaning"
   ]
  },
  {
   "cell_type": "code",
   "execution_count": 119,
   "id": "5441be81-a5db-45f7-afa5-377e555a6054",
   "metadata": {
    "tags": []
   },
   "outputs": [
    {
     "data": {
      "text/html": [
       "<div>\n",
       "<style scoped>\n",
       "    .dataframe tbody tr th:only-of-type {\n",
       "        vertical-align: middle;\n",
       "    }\n",
       "\n",
       "    .dataframe tbody tr th {\n",
       "        vertical-align: top;\n",
       "    }\n",
       "\n",
       "    .dataframe thead th {\n",
       "        text-align: right;\n",
       "    }\n",
       "</style>\n",
       "<table border=\"1\" class=\"dataframe\">\n",
       "  <thead>\n",
       "    <tr style=\"text-align: right;\">\n",
       "      <th></th>\n",
       "      <th>start_lat</th>\n",
       "      <th>start_lng</th>\n",
       "      <th>end_lat</th>\n",
       "      <th>end_lng</th>\n",
       "      <th>avg_temp</th>\n",
       "    </tr>\n",
       "  </thead>\n",
       "  <tbody>\n",
       "    <tr>\n",
       "      <th>count</th>\n",
       "      <td>895485.000000</td>\n",
       "      <td>895485.000000</td>\n",
       "      <td>893515.000000</td>\n",
       "      <td>893515.000000</td>\n",
       "      <td>895485.000000</td>\n",
       "    </tr>\n",
       "    <tr>\n",
       "      <th>mean</th>\n",
       "      <td>40.731927</td>\n",
       "      <td>-74.040461</td>\n",
       "      <td>40.731868</td>\n",
       "      <td>-74.040205</td>\n",
       "      <td>17.497078</td>\n",
       "    </tr>\n",
       "    <tr>\n",
       "      <th>std</th>\n",
       "      <td>0.012095</td>\n",
       "      <td>0.012219</td>\n",
       "      <td>0.012222</td>\n",
       "      <td>0.012178</td>\n",
       "      <td>8.498326</td>\n",
       "    </tr>\n",
       "    <tr>\n",
       "      <th>min</th>\n",
       "      <td>40.706495</td>\n",
       "      <td>-74.088964</td>\n",
       "      <td>40.640000</td>\n",
       "      <td>-74.140000</td>\n",
       "      <td>-11.700000</td>\n",
       "    </tr>\n",
       "    <tr>\n",
       "      <th>25%</th>\n",
       "      <td>40.721124</td>\n",
       "      <td>-74.046305</td>\n",
       "      <td>40.721124</td>\n",
       "      <td>-74.045953</td>\n",
       "      <td>11.600000</td>\n",
       "    </tr>\n",
       "    <tr>\n",
       "      <th>50%</th>\n",
       "      <td>40.733670</td>\n",
       "      <td>-74.037977</td>\n",
       "      <td>40.733670</td>\n",
       "      <td>-74.037977</td>\n",
       "      <td>19.200000</td>\n",
       "    </tr>\n",
       "    <tr>\n",
       "      <th>75%</th>\n",
       "      <td>40.740973</td>\n",
       "      <td>-74.030970</td>\n",
       "      <td>40.740973</td>\n",
       "      <td>-74.030970</td>\n",
       "      <td>24.300000</td>\n",
       "    </tr>\n",
       "    <tr>\n",
       "      <th>max</th>\n",
       "      <td>40.754992</td>\n",
       "      <td>-74.023490</td>\n",
       "      <td>40.872412</td>\n",
       "      <td>-73.888271</td>\n",
       "      <td>31.300000</td>\n",
       "    </tr>\n",
       "  </tbody>\n",
       "</table>\n",
       "</div>"
      ],
      "text/plain": [
       "           start_lat      start_lng        end_lat        end_lng  \\\n",
       "count  895485.000000  895485.000000  893515.000000  893515.000000   \n",
       "mean       40.731927     -74.040461      40.731868     -74.040205   \n",
       "std         0.012095       0.012219       0.012222       0.012178   \n",
       "min        40.706495     -74.088964      40.640000     -74.140000   \n",
       "25%        40.721124     -74.046305      40.721124     -74.045953   \n",
       "50%        40.733670     -74.037977      40.733670     -74.037977   \n",
       "75%        40.740973     -74.030970      40.740973     -74.030970   \n",
       "max        40.754992     -74.023490      40.872412     -73.888271   \n",
       "\n",
       "            avg_temp  \n",
       "count  895485.000000  \n",
       "mean       17.497078  \n",
       "std         8.498326  \n",
       "min       -11.700000  \n",
       "25%        11.600000  \n",
       "50%        19.200000  \n",
       "75%        24.300000  \n",
       "max        31.300000  "
      ]
     },
     "execution_count": 119,
     "metadata": {},
     "output_type": "execute_result"
    }
   ],
   "source": [
    "## Summary Statistics\n",
    "df_merged.describe()"
   ]
  },
  {
   "cell_type": "code",
   "execution_count": 115,
   "id": "de95f624-2c1d-4da7-bedb-2365824f475b",
   "metadata": {
    "tags": []
   },
   "outputs": [
    {
     "data": {
      "text/plain": [
       "0"
      ]
     },
     "execution_count": 115,
     "metadata": {},
     "output_type": "execute_result"
    }
   ],
   "source": [
    "# Look for Duplicates\n",
    "dup = df_merged.duplicated()\n",
    "dup.sum()"
   ]
  },
  {
   "cell_type": "code",
   "execution_count": 117,
   "id": "e8f75e20-239f-4928-8e3e-8fde66fc3b7d",
   "metadata": {
    "tags": []
   },
   "outputs": [
    {
     "data": {
      "text/plain": [
       "ride_id                  0\n",
       "rideable_type            0\n",
       "started_at               0\n",
       "ended_at                 0\n",
       "start_station_name      10\n",
       "start_station_id        10\n",
       "end_station_name      3204\n",
       "end_station_id        3204\n",
       "start_lat                0\n",
       "start_lng                0\n",
       "end_lat               1970\n",
       "end_lng               1970\n",
       "member_casual            0\n",
       "date                     0\n",
       "avg_temp                 0\n",
       "_merge                   0\n",
       "dtype: int64"
      ]
     },
     "execution_count": 117,
     "metadata": {},
     "output_type": "execute_result"
    }
   ],
   "source": [
    "# Look for Missing Values\n",
    "df_merged.isnull().sum()"
   ]
  },
  {
   "cell_type": "code",
   "execution_count": 121,
   "id": "ee6bd7ec-6718-47a6-89fd-fc3bed7aa266",
   "metadata": {
    "tags": []
   },
   "outputs": [],
   "source": [
    "# Rename cols\n",
    "df_merged.rename(columns={'rideable_type':'bike_type', 'started_at':'start_time', 'ended_at':'end_time', 'start_station_name':'start_station', 'end_station_name':'end_station', 'member_casual':'membership'}, inplace=True)"
   ]
  },
  {
   "cell_type": "code",
   "execution_count": null,
   "id": "5951cf75-7da7-41e4-85e1-2a8a23520774",
   "metadata": {},
   "outputs": [],
   "source": [
    "# Drop flag col"
   ]
  },
  {
   "cell_type": "code",
   "execution_count": 123,
   "id": "0bba6434-76cf-4cae-b32b-a8b16421ec24",
   "metadata": {
    "tags": []
   },
   "outputs": [],
   "source": [
    "df_merged.drop(columns='_merge', inplace=True)"
   ]
  },
  {
   "cell_type": "markdown",
   "id": "8122e817-bc36-4665-a5de-177fe26c2674",
   "metadata": {
    "tags": []
   },
   "source": [
    "## Save File"
   ]
  },
  {
   "cell_type": "code",
   "execution_count": 127,
   "id": "01abcf44-cb81-426d-8e42-f959fafea070",
   "metadata": {
    "tags": []
   },
   "outputs": [],
   "source": [
    "df_merged.to_pickle(r'../Data/Prepared/bike_final.pkl')"
   ]
  },
  {
   "cell_type": "code",
   "execution_count": null,
   "id": "524776a9-2e92-4007-910a-e34d59b71bd4",
   "metadata": {},
   "outputs": [],
   "source": []
  }
 ],
 "metadata": {
  "kernelspec": {
   "display_name": "Python [conda env:venv_NY_CB]",
   "language": "python",
   "name": "conda-env-venv_NY_CB-py"
  },
  "language_info": {
   "codemirror_mode": {
    "name": "ipython",
    "version": 3
   },
   "file_extension": ".py",
   "mimetype": "text/x-python",
   "name": "python",
   "nbconvert_exporter": "python",
   "pygments_lexer": "ipython3",
   "version": "3.10.15"
  }
 },
 "nbformat": 4,
 "nbformat_minor": 5
}
