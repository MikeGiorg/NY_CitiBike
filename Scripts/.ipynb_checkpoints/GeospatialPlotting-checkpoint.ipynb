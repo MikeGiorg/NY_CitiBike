{
 "cells": [
  {
   "cell_type": "markdown",
   "id": "b75b5561-f2e0-4e0b-b38d-51519ca4a293",
   "metadata": {},
   "source": [
    "## Import Libraries and Files"
   ]
  },
  {
   "cell_type": "code",
   "execution_count": 3,
   "id": "522c6154-231e-4047-a714-646cd10b9a99",
   "metadata": {
    "tags": []
   },
   "outputs": [],
   "source": [
    "# Import Libraries\n",
    "import pandas as pd\n",
    "import numpy as np\n",
    "import os\n",
    "import matplotlib.pyplot as plt\n",
    "from keplergl import KeplerGl\n",
    "from pyproj import CRS\n",
    "from IPython.display import display"
   ]
  },
  {
   "cell_type": "code",
   "execution_count": 5,
   "id": "b3f12181-42ff-4560-8de9-391e91e0b94c",
   "metadata": {
    "tags": []
   },
   "outputs": [],
   "source": [
    "# Import Files\n",
    "bike = pd.read_pickle(r'../Data/Prepared/bike_flag.pkl')"
   ]
  },
  {
   "cell_type": "markdown",
   "id": "17a32d49-89d5-46f6-a17c-17db8a0e84cf",
   "metadata": {},
   "source": [
    "## Geospatial Visualisation"
   ]
  },
  {
   "cell_type": "code",
   "execution_count": 7,
   "id": "4b8b310c-72be-49c8-820b-728163cba381",
   "metadata": {
    "tags": []
   },
   "outputs": [],
   "source": [
    "bike2 = bike[bike['start_station'].notna() & bike['end_station'].notna()]"
   ]
  },
  {
   "cell_type": "code",
   "execution_count": 9,
   "id": "87c33e7b-e775-455d-9508-5c1e63366cde",
   "metadata": {
    "tags": []
   },
   "outputs": [],
   "source": [
    "# Select stations without NaN\n",
    "bike2 = bike2.copy() "
   ]
  },
  {
   "cell_type": "code",
   "execution_count": 11,
   "id": "20ddc3e7-60f6-47a3-b1c9-6b06ed162e59",
   "metadata": {
    "tags": []
   },
   "outputs": [
    {
     "data": {
      "text/plain": [
       "(987708, 19)"
      ]
     },
     "execution_count": 11,
     "metadata": {},
     "output_type": "execute_result"
    }
   ],
   "source": [
    "# Check values for bike2\n",
    "bike2.shape"
   ]
  },
  {
   "cell_type": "code",
   "execution_count": 13,
   "id": "c3a8dd91-57be-42ef-bfb2-55098507aaab",
   "metadata": {
    "tags": []
   },
   "outputs": [
    {
     "data": {
      "text/plain": [
       "(988797, 19)"
      ]
     },
     "execution_count": 13,
     "metadata": {},
     "output_type": "execute_result"
    }
   ],
   "source": [
    "# Check values for bike\n",
    "bike.shape"
   ]
  },
  {
   "cell_type": "code",
   "execution_count": 15,
   "id": "35526900-ae60-4ed9-a6ce-fc4b4e91d760",
   "metadata": {
    "tags": []
   },
   "outputs": [],
   "source": [
    "bike2.loc[:, 'value'] = 1"
   ]
  },
  {
   "cell_type": "code",
   "execution_count": 17,
   "id": "96ec1463-3a81-48bf-a186-ce1afcac8d0a",
   "metadata": {
    "tags": []
   },
   "outputs": [],
   "source": [
    "# Group by start_station and end_station, keeping the first latitude/longitude for each\n",
    "bike_grouped = bike2.groupby(['start_station', 'end_station'], as_index=False).agg(\n",
    "    start_lat=('start_lat', 'first'),\n",
    "    start_lon=('start_lng', 'first'),\n",
    "    end_lat=('end_lat', 'first'),\n",
    "    end_lon=('end_lng', 'first'),\n",
    "    trip_count=('value', 'count')  \n",
    ")"
   ]
  },
  {
   "cell_type": "markdown",
   "id": "ac025feb-8ebb-43dd-92ae-f6b8f6b2fbfb",
   "metadata": {},
   "source": [
    "### Create Geo Map"
   ]
  },
  {
   "cell_type": "code",
   "execution_count": 21,
   "id": "d36aac1e-8a42-4026-8b43-071c42bd29ea",
   "metadata": {
    "tags": []
   },
   "outputs": [
    {
     "name": "stdout",
     "output_type": "stream",
     "text": [
      "User Guide: https://docs.kepler.gl/docs/keplergl-jupyter\n"
     ]
    }
   ],
   "source": [
    "# Create KeplerGl instance\n",
    "m = KeplerGl(height=700) \n",
    "m.add_data(data=bike_grouped, name='bike trips aggregated')"
   ]
  },
  {
   "cell_type": "code",
   "execution_count": 23,
   "id": "c772a2b9-0cac-4577-8d6e-c383a295ed8c",
   "metadata": {},
   "outputs": [
    {
     "name": "stdout",
     "output_type": "stream",
     "text": [
      "Map saved to kepler_map.html!\n"
     ]
    }
   ],
   "source": [
    "# Save Map\n",
    "m.save_to_html(file_name='kepler_map.html')"
   ]
  },
  {
   "cell_type": "code",
   "execution_count": 25,
   "id": "41e98f1c-e20b-43af-823f-4099ba7c4a44",
   "metadata": {
    "tags": []
   },
   "outputs": [
    {
     "data": {
      "application/vnd.jupyter.widget-view+json": {
       "model_id": "18c8b1f7e2f34aabad9802165d75abdd",
       "version_major": 2,
       "version_minor": 0
      },
      "text/plain": [
       "KeplerGl(data={'bike trips aggregated': {'index': [0, 1, 2, 3, 4, 5, 6, 7, 8, 9, 10, 11, 12, 13, 14, 15, 16, 1…"
      ]
     },
     "metadata": {},
     "output_type": "display_data"
    }
   ],
   "source": [
    "display(m)"
   ]
  },
  {
   "cell_type": "code",
   "execution_count": null,
   "id": "3a4ea7d6-bd04-464b-9346-a25c5dfe8762",
   "metadata": {},
   "outputs": [],
   "source": []
  }
 ],
 "metadata": {
  "kernelspec": {
   "display_name": "Python [conda env:geopandas_env]",
   "language": "python",
   "name": "conda-env-geopandas_env-py"
  },
  "language_info": {
   "codemirror_mode": {
    "name": "ipython",
    "version": 3
   },
   "file_extension": ".py",
   "mimetype": "text/x-python",
   "name": "python",
   "nbconvert_exporter": "python",
   "pygments_lexer": "ipython3",
   "version": "3.10.13"
  }
 },
 "nbformat": 4,
 "nbformat_minor": 5
}
