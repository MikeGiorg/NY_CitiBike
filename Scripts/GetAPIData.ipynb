{
 "cells": [
  {
   "cell_type": "markdown",
   "id": "02cfb463-9f86-49d8-9651-a7e070ee2e19",
   "metadata": {},
   "source": [
    "## Import Libraries and Files"
   ]
  },
  {
   "cell_type": "code",
   "execution_count": 209,
   "id": "b59b66e1-a314-43fb-82ed-78c2410f1a2b",
   "metadata": {
    "tags": []
   },
   "outputs": [],
   "source": [
    "# Import Libraries \n",
    "import pandas as pd\n",
    "import numpy as np \n",
    "import os \n",
    "import requests\n",
    "import json\n",
    "from datetime import datetime\n",
    "from dotenv import load_dotenv"
   ]
  },
  {
   "cell_type": "code",
   "execution_count": 211,
   "id": "89c207b3-a1f7-46f5-aa5c-856c491aff2e",
   "metadata": {},
   "outputs": [],
   "source": [
    "# Import bikesharing data\n",
    "folderpath = r'../Data/Original'"
   ]
  },
  {
   "cell_type": "code",
   "execution_count": 213,
   "id": "d2602033-8873-4ceb-9024-cd5348174c9a",
   "metadata": {
    "tags": []
   },
   "outputs": [],
   "source": [
    "filepath = [os.path.join(folderpath, name) \n",
    "            for name in os.listdir(folderpath)]"
   ]
  },
  {
   "cell_type": "markdown",
   "id": "bb01e3aa-37cc-4eb9-bf89-e67cbf563e5a",
   "metadata": {
    "tags": []
   },
   "source": [
    "os.listdir(folderpath) returns a list of files in the folderpath directory. os.path.join() combines the directory path with the directory name, creating a full path. Finally the list comprehension creates a loop through the file names and applies os.path.join(). "
   ]
  },
  {
   "cell_type": "code",
   "execution_count": 215,
   "id": "b8e03692-4573-4cb9-973c-45358d4cc63c",
   "metadata": {
    "tags": []
   },
   "outputs": [],
   "source": [
    "# Concatenate Files\n",
    "bike = pd.concat((pd.read_csv(f) for f in filepath), ignore_index=True)"
   ]
  },
  {
   "cell_type": "code",
   "execution_count": 216,
   "id": "42a22654-33ce-4aec-b740-46935a0e5d68",
   "metadata": {
    "tags": []
   },
   "outputs": [
    {
     "data": {
      "text/plain": [
       "True"
      ]
     },
     "execution_count": 216,
     "metadata": {},
     "output_type": "execute_result"
    }
   ],
   "source": [
    "# Import weather data\n",
    "load_dotenv() # Load the .env file"
   ]
  },
  {
   "cell_type": "code",
   "execution_count": 219,
   "id": "35e404aa-c488-4fe0-9d8c-fa9e629fcd79",
   "metadata": {
    "tags": []
   },
   "outputs": [],
   "source": [
    "token = os.getenv('APItoken')"
   ]
  },
  {
   "cell_type": "code",
   "execution_count": 221,
   "id": "6f8bf573-fd0a-426c-93c2-a8a54ca7fe79",
   "metadata": {
    "tags": []
   },
   "outputs": [],
   "source": [
    "# Get Data\n",
    "r = requests.get('https://www.ncdc.noaa.gov/cdo-web/api/v2/data?datasetid=GHCND&datatypeid=TAVG&limit=1000&stationid=GHCND:USW00014732&startdate=2022-01-01&enddate=2022-12-31', headers={'token':token})"
   ]
  },
  {
   "cell_type": "code",
   "execution_count": 222,
   "id": "5e6fca3a-8b02-4152-b530-7c2dce259f37",
   "metadata": {
    "tags": []
   },
   "outputs": [],
   "source": [
    "# Load the API response as Json\n",
    "d = json.loads(r.text)"
   ]
  },
  {
   "cell_type": "markdown",
   "id": "e27e2f5c-c955-48dc-bd0a-8f7ce60bfd4f",
   "metadata": {
    "tags": []
   },
   "source": [
    "## Data Wrangling"
   ]
  },
  {
   "cell_type": "code",
   "execution_count": 225,
   "id": "21f42a09-d1dc-4f5d-980b-b03def191ec6",
   "metadata": {
    "tags": []
   },
   "outputs": [],
   "source": [
    "# Get all items that correspond to TAVG\n",
    "avg_temps = [item for item in d['results'] if item['datatype']=='TAVG']"
   ]
  },
  {
   "cell_type": "code",
   "execution_count": 227,
   "id": "241d17dd-0885-4cc0-8259-3fb15b67c6e0",
   "metadata": {
    "tags": []
   },
   "outputs": [],
   "source": [
    "# Get only all average temperature readings\n",
    "data_temp = [item['date'] for item in avg_temps]"
   ]
  },
  {
   "cell_type": "code",
   "execution_count": 229,
   "id": "0aa3758e-7fd0-4410-a974-26b2c142cfe5",
   "metadata": {
    "tags": []
   },
   "outputs": [],
   "source": [
    "# Get the temperature from all average temperature readings\n",
    "temps = [item['value'] for item in avg_temps]"
   ]
  },
  {
   "cell_type": "code",
   "execution_count": 231,
   "id": "77a91f9e-9801-46a7-abb1-5a92428e3958",
   "metadata": {
    "tags": []
   },
   "outputs": [],
   "source": [
    "# Pit lists in Dataframe\n",
    "df_temp = pd.DataFrame()"
   ]
  },
  {
   "cell_type": "code",
   "execution_count": 233,
   "id": "ed8a6e6c-7921-4e64-b526-69d11b564bb0",
   "metadata": {
    "tags": []
   },
   "outputs": [],
   "source": [
    "# Convert date format\n",
    "df_temp['date'] = [datetime.strptime(d, \"%Y-%m-%dT%H:%M:%S\") for d in data_temp] "
   ]
  },
  {
   "cell_type": "code",
   "execution_count": 235,
   "id": "013c7971-4438-4a12-8030-2fc5606b1824",
   "metadata": {
    "tags": []
   },
   "outputs": [],
   "source": [
    "# Convert temperature format\n",
    "df_temp['avgtemp'] = [float(v)/10.0 for v in temps]"
   ]
  },
  {
   "cell_type": "code",
   "execution_count": 237,
   "id": "c928e065-1a20-4cb3-9a35-c29891559fcf",
   "metadata": {
    "tags": []
   },
   "outputs": [],
   "source": [
    "## Convert bike format to datetime\n",
    "bike['started_at'] = pd.to_datetime(bike['started_at'], dayfirst=True)\n",
    "bike['date'] = pd.to_datetime(bike['started_at'], format='%Y-%m-%d').dt.date"
   ]
  },
  {
   "cell_type": "code",
   "execution_count": 239,
   "id": "4510df37-6c88-4cc8-b467-f4f7629d6805",
   "metadata": {
    "tags": []
   },
   "outputs": [],
   "source": [
    "# Match date format\n",
    "bike['date'] = pd.to_datetime(bike['started_at'], format='%Y-%m-%d').dt.date\n",
    "df_temp['date'] = pd.to_datetime(df_temp['date'], format='%Y-%m-%d').dt.date"
   ]
  },
  {
   "cell_type": "markdown",
   "id": "7f5b67a3-59e4-402c-b28a-168972df8e3c",
   "metadata": {},
   "source": [
    "## Merge Datasets"
   ]
  },
  {
   "cell_type": "code",
   "execution_count": 241,
   "id": "d724879a-7e2c-4145-b48a-9e3829904249",
   "metadata": {
    "tags": []
   },
   "outputs": [],
   "source": [
    "# Merge datasets\n",
    "df_merged = bike.merge(df_temp, how = 'left', on = 'date', indicator = True)"
   ]
  },
  {
   "cell_type": "code",
   "execution_count": 243,
   "id": "ccdeb5b7-4c34-4f4e-83dc-3dda2f68bc71",
   "metadata": {
    "tags": []
   },
   "outputs": [
    {
     "data": {
      "text/plain": [
       "both          895485\n",
       "left_only          0\n",
       "right_only         0\n",
       "Name: _merge, dtype: int64"
      ]
     },
     "execution_count": 243,
     "metadata": {},
     "output_type": "execute_result"
    }
   ],
   "source": [
    "# Check Merge\n",
    "df_merged['_merge'].value_counts(dropna = False)"
   ]
  },
  {
   "cell_type": "markdown",
   "id": "8122e817-bc36-4665-a5de-177fe26c2674",
   "metadata": {
    "tags": []
   },
   "source": [
    "## Save File"
   ]
  },
  {
   "cell_type": "code",
   "execution_count": 245,
   "id": "01abcf44-cb81-426d-8e42-f959fafea070",
   "metadata": {
    "tags": []
   },
   "outputs": [],
   "source": [
    "df_merged.to_pickle(r'../Data/Prepared/bike_final.pkl')"
   ]
  },
  {
   "cell_type": "code",
   "execution_count": null,
   "id": "f0802bb9-7453-4220-8118-7ef1b552f88a",
   "metadata": {},
   "outputs": [],
   "source": []
  }
 ],
 "metadata": {
  "kernelspec": {
   "display_name": "Python [conda env:venv_NY_CB]",
   "language": "python",
   "name": "conda-env-venv_NY_CB-py"
  },
  "language_info": {
   "codemirror_mode": {
    "name": "ipython",
    "version": 3
   },
   "file_extension": ".py",
   "mimetype": "text/x-python",
   "name": "python",
   "nbconvert_exporter": "python",
   "pygments_lexer": "ipython3",
   "version": "3.10.15"
  }
 },
 "nbformat": 4,
 "nbformat_minor": 5
}
